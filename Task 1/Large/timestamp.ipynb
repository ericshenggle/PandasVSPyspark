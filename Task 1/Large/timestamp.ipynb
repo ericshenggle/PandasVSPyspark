{
 "cells": [
  {
   "cell_type": "code",
   "execution_count": null,
   "metadata": {
    "is_executing": true
   },
   "outputs": [],
   "source": [
    "import numpy as np\n",
    "import matplotlib.pyplot as plt\n",
    " \n",
    "plt.rcParams['font.size'] = 16\n",
    " \n",
    "def survey(results, category_names, Task=2):\n",
    "    \"\"\"\n",
    "    Parameters\n",
    "    ----------\n",
    "    results : 字典\n",
    "        案例的数据源，且字典值的长度与category_names对应\n",
    "    category_names : 字符串列表\n",
    "        每个种类的标签\n",
    "    \"\"\"\n",
    "    labels = list(results.keys())\n",
    "    data = np.array(list(results.values()))\n",
    "    if Task == 2:\n",
    "        data = data / 60\n",
    "    data_cum = data.cumsum(axis=1)\n",
    "    category_colors = plt.colormaps['RdYlGn'](\n",
    "        np.linspace(0.15, 0.85, data.shape[1]))\n",
    " \n",
    "    fig, ax = plt.subplots(figsize=(15, 6))\n",
    "    ax.invert_yaxis()\n",
    "    ax.xaxis.set_visible(False)\n",
    "    ax.set_xlim(0, np.sum(data, axis=1).max())\n",
    " \n",
    "    for i, (colname, color) in enumerate(zip(category_names, category_colors)):\n",
    "        widths = data[:, i]\n",
    "        starts = data_cum[:, i] - widths\n",
    "        rects = ax.barh(i, widths, left=starts, height=0.4,\n",
    "                        label=colname, color=color)\n",
    " \n",
    "        r, g, b, _ = color\n",
    "        text_color = 'white' if r * g * b < 0.5 else 'darkgrey'\n",
    "        ax.bar_label(rects, label_type='center', color='black', fontsize=20, fmt='%.2f')\n",
    "    \n",
    "    plt.yticks([0, 1, 2, 3, 4, 5], category_names, rotation=30)\n",
    "    plt.xlabel('Time (seconds)')\n",
    " \n",
    "category_names = ['Review Load', 'Meta Load', 'Group and Aggregate', 'Join', 'Sort', 'Write']"
   ]
  },
  {
   "cell_type": "code",
   "execution_count": null,
   "metadata": {
    "is_executing": true
   },
   "outputs": [],
   "source": [
    "results = {'Pandas' : [392.16, 100.79, 28.66, 4.00, 0.26, 0.01]}\n",
    "survey(results, category_names, Task=1)\n",
    "\n",
    "plt.title(f'Pandas Task 1 (Large)\\n Time Consuming: {round(sum(results[\"Pandas\"]), 3)}s')\n",
    "plt.show()"
   ]
  },
  {
   "cell_type": "code",
   "execution_count": null,
   "metadata": {
    "is_executing": true
   },
   "outputs": [],
   "source": [
    "results = {'Pyspark': [15.18, 7.59, 0.07, 0.04, 42.53, 0.98]}\n",
    "survey(results, category_names, Task=1)\n",
    "\n",
    "plt.title(f'Pyspark Task 1 (Large)\\n Time Consuming: {round(sum(results[\"Pyspark\"]), 3)}s')\n",
    "plt.show()"
   ]
  },
  {
   "cell_type": "code",
   "execution_count": null,
   "metadata": {
    "is_executing": true
   },
   "outputs": [],
   "source": []
  }
 ],
 "metadata": {
  "kernelspec": {
   "display_name": "CS5239",
   "language": "python",
   "name": "python3"
  },
  "language_info": {
   "codemirror_mode": {
    "name": "ipython",
    "version": 3
   },
   "file_extension": ".py",
   "mimetype": "text/x-python",
   "name": "python",
   "nbconvert_exporter": "python",
   "pygments_lexer": "ipython3",
   "version": "3.8.17"
  }
 },
 "nbformat": 4,
 "nbformat_minor": 2
}
