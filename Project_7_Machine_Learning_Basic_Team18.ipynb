{
 "cells": [
  {
   "cell_type": "markdown",
   "metadata": {
    "id": "6SQCVuhLAgJ6"
   },
   "source": [
    "# <center>Performance Evaluation in Machine Learning</center>"
   ]
  },
  {
   "cell_type": "markdown",
   "metadata": {
    "id": "G3Acp-WI-n9Q"
   },
   "source": [
    "## 1. Introduction\n",
    "\n",
    "Just like chess players improve their technique by watching hundreds of games from top players, computers can be able to perform certain tasks by “looking” at data. These computers are sometimes called “**machines**” and this data observation step is also known as “**learning**”. Simple, isn’t it? So let’s define “**Machine Learning**” (ML) more formally, as stated by Tom Mitchell. A program is said to learn from experience E with respect to some task T and some performance measure P, if its performance on T, as measured by P, improves with experience E. Let’s get more **-h** and provide an example. Say that T is the process of playing chess, E is a set of chess matches on which the algorithm was trained and P is the probability for the program to win the next game of chess.\n",
    "\n",
    "What is truly important however, is that machine learning algorithms, unlike traditional ones, are not required to be pre-programmed explicitly to solve a particular task. Just like in the previous example, they **learn** from the data fed into them and afterwards, are able to **predict** results for new scenarios. As you might expect, this isn’t just black magic. The majority of ML algorithms are based on some maths and statistics, but also on a fair amount of engineering. 😎 \n",
    "\n",
    "<br/>\n",
    "\n",
    "![machine-learning-flow](https://miro.medium.com/max/1400/1*E7sk9C5buY9KnBUDflI9fQ.png)\n",
    "[🌎 &nbsp;Image Source](https://medium.com/@tekaround/train-validation-test-set-in-machine-learning-how-to-understand-6cdd98d4a764)"
   ]
  },
  {
   "cell_type": "markdown",
   "metadata": {
    "id": "9qb_cHSUBdGz"
   },
   "source": [
    "---\n",
    ">Machine learning algorithms learn from data and they **don’t** have to be programmed explicitly!\n",
    "---\n",
    "\n"
   ]
  },
  {
   "cell_type": "markdown",
   "metadata": {
    "id": "oLzfz9DaExIc"
   },
   "source": [
    "## 2. Supervised Learning vs Unsupervised Learning\n",
    "\n",
    "Generally, in machine learning, there are two types of tasks: **supervised** and **unsupervised**."
   ]
  },
  {
   "cell_type": "markdown",
   "metadata": {
    "id": "6R1yaPwLCWnu"
   },
   "source": [
    "### A. Supervised Learning\n",
    "\n",
    "We refer to the former when we have prior knowledge of what the output of the system should look like. More formally, after going through lots of `(X, y)` pairs, the model should be able to determine that **mapping function** `ĥ` which approximates `f(X) = y` as accurately as possible. In machine learning, the entire set of `(X, y)` pairs is often called **corpus** or **dataset** and an algorithm that learned from this corpus is sometimes called a **trained model** or simply a **model**.\n",
    "\n",
    "For example, let’s say that you want to build a smart car selling platform and you want to provide sellers with the ability to know what should be a “fair price” based on the **specs** and **age** of their cars. For that, you would need to provide your model with a set of tuples that might look like this:\n",
    "\n",
    "`(bhp, fuel_type, displacement, weight, torque, suspension, car_age, car_price)`\n",
    "\n",
    "In this case, **X** is formed from the tuple slices `(bhp, fuel_type, displacement, weight, torque, suspension, car_age)` and each slice component is called a **feature**. Likewise, **y** is represented by the `car_price` and it's usually called **label** or **ground truth**. After learning from the provided corpus, a process that is commonly called **model fitting**, our model should be able to predict an approximation of the car price `ŷ` for new ages and specs **X**.\n",
    "\n",
    "\n",
    "<br/>\n",
    "\n",
    "![supervised-learning](https://databasetown.com/wp-content/uploads/2023/05/Supervised-Learning-1024x726.jpg)\n",
    "\n",
    "[🌎 &nbsp;Image Source](https://databasetown.com/supervised-learning-algorithms/)\n",
    "\n",
    "\n"
   ]
  },
  {
   "cell_type": "markdown",
   "metadata": {
    "id": "FfCeTi7XtboS"
   },
   "source": [
    "---\n",
    ">In the dataset of each **supervised** machine **learning** task, there will always be a **label y** that can be associated with a set of **features X**!\n",
    "---\n",
    "\n",
    "Because a **numerical** or **continuous** output is expected as a result, the aforementioned scenario is an example of a **regression task**. If y was a label that can take the values “cheap”, “fair” or “expensive”, then that would be called a **classification task** and y can also be referred to as a **class**.\n",
    "\n",
    "<br/>\n",
    "\n",
    "![classification-vs-regression](https://ocw.cs.pub.ro/courses/_media/ep/labs/3._classification_vs_regression.png?w=600&tok=f48ebb)\n",
    "\n",
    "[🌎 &nbsp;Image Source](https://towardsdatascience.com/do-you-know-how-to-choose-the-right-machine-learning-algorithm-among-7-different-types-295d0b0c7f60)"
   ]
  },
  {
   "cell_type": "markdown",
   "metadata": {
    "id": "mtDdxuKjtVyY"
   },
   "source": [
    "---\n",
    ">Two examples of **supervised learning** tasks are **regression** and **classification**!\n",
    "---"
   ]
  },
  {
   "cell_type": "markdown",
   "metadata": {
    "id": "0Xa5b23tGfSG"
   },
   "source": [
    "### B. Unsupervised Learning\n",
    "\n",
    "In the case of **unsupervised learning**, the training data is not labeled anymore, so the machine learning algorithm must take decisions without having a ground truth as reference. That means that your dataset is no longer made out of (X, y) pairs, but only of X entries. Consequently, the job of the model would be to provide meaningful **insights** about those X entries, by finding various **patterns** in the data.\n",
    "\n",
    "<br/>\n",
    "\n",
    "![unsupervised-learning](https://databasetown.com/wp-content/uploads/2023/05/Unsupervised-Learning-1024x726.jpg)\n",
    "\n",
    "[🌎 &nbsp;Image Source](https://databasetown.com/unsupervised-learning-types-applications/)\n",
    "\n",
    "The most common tasks for this learning approach are **clustering algorithms**. In these type of problems, the model must learn how to group various data together, forming **components** or **clusters**. Say that having a table with information about all the Facebook users, you would like to recommend personalized ads for every single person. This sounds like a very difficult task, because there is a huge number of users on the platform. But what if we group users together based on their **traits** (or **features** as your Data Scientist within you might say)? Then, we can suggest the same ads bundle to a whole group of users, making the advertising process easier and cheaper.\n",
    "\n",
    "![unsupervised-learning-example](https://miro.medium.com/max/700/1*af-tNiqd-3_ResjoDOFm5A.png)\n",
    "\n",
    "[🌎 &nbsp;Image Source](https://towardsdatascience.com/introduction-to-machine-learning-for-beginners-eed6024fdb08)\n"
   ]
  },
  {
   "cell_type": "markdown",
   "metadata": {
    "id": "ey7XBkHutz6B"
   },
   "source": [
    "---\n",
    ">  In the dataset of each **unsupervised** machine **learning** task, there will exist **only X** entries used to identify **patterns** and **insights** about data!\n",
    "---"
   ]
  },
  {
   "cell_type": "markdown",
   "metadata": {
    "id": "_IxeJKeiITRq"
   },
   "source": [
    "## 3. Performance Evaluation in Machine Learning\n",
    "\n",
    "Generally, with machine learning algorithms, in the early phase of development, the focus is less on the computational resources (RAM, CPU, IO etc.) and more on the ability of the model to **generalize** well on the data. That means that our algorithm is trained well enough to provide accurate answers for data that has never been seen before (predict a car price for a new car posted on the platform, classify a new vehicle or assign a freshly registered Facebook user to a group). Hence, at first, we try to build a robust and accurate model and then we work towards making it function as computationally inexpensive as possible.\n",
    "\n",
    "---\n",
    "> In machine learning, traditional evaluation metrics (RAM, CPU, IO) are not used as frequently!\n",
    "---\n"
   ]
  },
  {
   "cell_type": "markdown",
   "metadata": {
    "id": "RQVgt9h5I5lc"
   },
   "source": [
    "### A. Training & Test Sets\n",
    "\n",
    "Evaluating machine learning algorithms is dependent on the type of problem we are trying to solve. But in most cases, we would want to split the data into a **training set** and a **test set**. As the name suggests, the former will be used to actually train the model and the later will be used to verify how well the model generalizes on unseen data. On the most common machine learning tasks, the split ratio ranges from **80-20** to **90-10**, depending on the size of the corpus. When a huge amount of data is operated (say millions or billions of entries), a smaller proportion of the dataset is used as a test set (even 1%) because the actual number of test entries are considered sufficiently numerous. For instance, 1% of 10M entries is 100k and that’s generally regarded as **a lot of data** to test on.\n",
    "\n",
    "![training-set-and-test-set](https://ocw.cs.pub.ro/courses/_media/ep/labs/6._training_and_test_sets.png?w=600&tok=2d3bd9)\n",
    "\n",
    "[🌎 &nbsp;Image Source](https://data-flair.training/blogs/train-test-set-in-python-ml/)\n"
   ]
  },
  {
   "cell_type": "markdown",
   "metadata": {
    "id": "GRlgJASst-yX"
   },
   "source": [
    "---\n",
    "> In most problems, the data is split into a **training set** used in model training and a **test set** used in performance evaluation!\n",
    "---"
   ]
  },
  {
   "cell_type": "markdown",
   "metadata": {
    "id": "2s2WEJ63KFDO"
   },
   "source": [
    "### B. Classification Problems\n",
    "\n",
    "Let’s begin our performance analysis journey by analyzing a **classification problem**. Let’s suppose that you have a model that was trained to predict whether a given image corresponds to a cat or not. As you already know, this is a **supervised learning** task in which the model must learn to **predict** one of **two classes** - “cat” or “non-cat”. In this case, the model is also called a **binary classifier**.\n",
    "\n",
    "![brittish-shorthair-kitten](https://images.squarespace-cdn.com/content/v1/525a1ae4e4b0b7382f191ee4/1527746265982-2PIBO5N32RF1WKTYACYI/British-Shorthair-kitten-cute-squat-3000x2000.jpg?format=1500w)\n",
    "\n",
    "[🌎 &nbsp;Image Source](http://www.british-shorthair-kitten.com/)\n",
    "\n",
    "#### Confusion Matrix\n",
    "\n",
    "You fit the model with your training data, you ask it for predictions on the test set and now you have two results: the ground truth **y** that was part of your dataset and the predictions **ŷ** that have just been yielded by your machine learning algorithm. So how do you assess your model in this particular scenario? One way is to build a **confusion matrix**, like the one below:\n",
    "\n",
    "![confusion-matrix](https://glassboxmedicine.files.wordpress.com/2019/02/confusion-matrix.png?w=816)\n",
    "\n",
    "[🌎 &nbsp;Image Source](https://glassboxmedicine.com/2019/02/17/measuring-performance-the-confusion-matrix/)\n",
    "\n",
    "Now don’t get confused. It’s actually quite simple to interpret it. There are **4 possible predictions** yielded by your binary classifier:\n",
    "\n",
    "  * **True Positives (y = ŷ and ŷ=”cat”):**\n",
    "the model identified a cat in the image and in that image it is actually a cat.\n",
    "\n",
    "  * **False Positives (y != ŷ and ŷ=”cat”):**\n",
    "the model identified a cat in the image, but there was no cat in the image.\n",
    "\n",
    "  * **False Negatives (y != ŷ and ŷ=”non-cat”):**\n",
    "the model did not recognize a cat in the image, but there was a cat in the image.\n",
    "\n",
    "  * **True Negatives (y = ŷ and ŷ=”non-cat”):**\n",
    "the model did not recognize a cat in the image and in the image there was no cat indeed.\n",
    "\n",
    "---\n",
    "> The **first step** in analyzing the performance of a **classifier** is to build a **confusion matrix**!\n",
    "---\n",
    "\n",
    "These 4 scenarios can have different levels of importance, depending on the problem one wants to solve. For a smart antivirus, keeping the number of false negatives as low as possible is crucial, even if that means an increase in the false positives. Naturally, it’s better to have annoying warnings than having your computer infected because the antivirus was unable to identify the threat. But if you don’t necessarily have unusual requirements for you model and you just want to assess its generic performance, there are 3 metrics that can be inferred from this matrix:\n",
    "\n",
    "#### Accuracy\n",
    "\n",
    "This is the most intuitive metric and represents the number of correctly predicted labels over the number of total predictions, the actual value of prediction (positive or negative) being irrelevant. Again, judging the model by this single metric can be misleading. Consider the case of credit card transaction frauds. There could be a lot of transactions that are perfectly valid, but only a handful of them are frauds. A model that trains on this data could learn to predict that all of the transactions are safe and the ones that are fraudulent are just outliers. Calculating the accuracy on a dataset of 1 million transactions would yield 99.9%. But our model is useless, because letting 1000 frauds unnoticed cannot be allowed.\n",
    "\n",
    "![accuracy](https://ocw.cs.pub.ro/courses/_media/ep/labs/16._accuracy.png?w=400&tok=dbbf3b)\n",
    "\n",
    "#### Precision\n",
    "\n",
    "The precision is the total number of correctly classified positive examples divided by the total number of predicted positive examples. If the precision is very high, the probability for our model of classifying non-cat images as cat images is quite low.\n",
    "\n",
    "![precision](https://ocw.cs.pub.ro/courses/_media/ep/labs/17._precision.png?w=400&tok=eca58f)\n",
    "\n",
    "#### Recall\n",
    "\n",
    "The recall is the total number of correctly classified positive examples divided by the total number of actual positive examples. If the recall is very high, the probability for our model of misclassifying cat images is quite low.\n",
    "\n",
    "![recall](https://ocw.cs.pub.ro/courses/_media/ep/labs/18._recall.png?w=400&tok=57e5df)\n",
    "\n",
    "When you have **high recall** and **low precision**, most of the cat images are correctly recognized, but there are a lot of false positives. In contrast, when you have **low recall** and **high precision**, we miss a lot of cat images, but those predicted as cat images have a high probability of being indeed cat images and not something else.\n",
    "\n",
    "![confusion-matrix-sketch](https://miro.medium.com/max/1854/1*uR09zTlPgIj5PvMYJZScVg.png)\n",
    "\n",
    "[🌎 &nbsp;Image Source](https://towardsdatascience.com/understanding-confusion-matrix-a9ad42dcfd62)\n",
    "\n",
    "#### F1 Score\n",
    "\n",
    "Ideally, you would want to have both **high recall** and **high precision**, but that is not always possible. So you can choose the trade-off you are most comfortable with or you can combine the 2 metrics into 1, by using the **F1 score**, which is actually the harmonic mean of the 2:\n",
    "\n",
    "![f1-score](https://ocw.cs.pub.ro/courses/_media/ep/labs/19._f1_score.png?w=400&tok=1b9b39)\n",
    "\n",
    "This single metric is more generic, goes from **0** (worst) to **1** (best) and together with accuracy, can give you a solid intuition on the performance of your model.\n",
    "\n",
    "---\n",
    ">  From the **confusion matrix** you can extract the **accuracy**, **precision** and **recall**!\n",
    "---\n",
    "\n",
    "#### Generic Confusion Matrix\n",
    "\n",
    "Don’t take the terms “positive” and “negative” written in the confusion matrix above literally! They are actually placeholders for the 2 classes (“cat” and “non-cat”) the model is trying to predict. This means that you can use more generic classes like “cat” and “dog” or “human” and “animal”, depending on the problem you want to solve. As a consequence, **each metric** (accuracy, precision, recall or F1 score) is computed **per class** and if you want to obtain a **generic score** for the model, you must compute their **average**. For instance, if you have a recall of **0.6** for \"**cat**\" and **0.5** for \"**dog**\", the **average recall** of the model will be **0.55**.\n",
    "\n",
    "Consequently, the confusion matrix can be generalized to more than 2 classes (see the image below), having the same metrics and ways of computing them.\n",
    "\n",
    "![generic-confusion-matrix](https://res.cloudinary.com/practicaldev/image/fetch/s--cRGF5_MX--/c_limit%2Cf_auto%2Cfl_progressive%2Cq_auto%2Cw_880/https://thepracticaldev.s3.amazonaws.com/i/hri4evvbu1t2v7mmmvct.png)\n",
    "\n",
    "[🌎 &nbsp;Image Source](https://dev.to/overrideveloper/understanding-the-confusion-matrix-264i)\n",
    "\n",
    "\n",
    "\n"
   ]
  },
  {
   "cell_type": "markdown",
   "metadata": {
    "id": "A4x2EA9fnBL1"
   },
   "source": [
    "### C. Regression Problems\n",
    "\n",
    "As it was previously mentioned, **supervised machine learning** can also imply solving **regression tasks**, where a **numerical** or **continuous** value is used as a label. Let’s take an example. Suppose that you want to predict the budget for an advertisement campaign, based on the revenue of the company. For this task, your model will learn from a training set of (X, y) pairs and will try to find the best **ĥ** that approximates the behaviour of the function **f(X) = y**. If we assume that the relationship between the two is **linear**, your model must learn how to **draw a line** that fits the points (X, y) the best. A visual representation can be seen in the figure below:\n",
    "\n",
    "![linear-regression](https://stackabuse.s3.amazonaws.com/media/multiple-linear-regression-with-python-1.png)\n",
    "\n",
    "[🌎 &nbsp;Image Source](https://stackabuse.com/multiple-linear-regression-with-python/)\n",
    "\n",
    "#### Root Mean Squared Error\n",
    "\n",
    "But how do we know if that line is drawn correctly? Well, first we must define an **error** or **loss function** that can mathematically indicate us how far from the points the line has been drawn. In linear regression tasks, the most common approach is to use the **root mean squared error (RMSE)**, depicted below. You can sometimes get rid of the root and just compute the **MSE** to avoid extra computations.\n",
    "\n",
    "![rmse](https://ocw.cs.pub.ro/courses/_media/ep/labs/20._rmse.png?w=400&tok=535cdc)\n",
    "\n",
    "In this formula, **y<sub>j</sub>** is the ground truth and **ŷ<sub>j</sub>** is the result of the partially learned function **ĥ(X<sub>j</sub>)**. Basically, the model must apply successive corrections to ĥ, such that the predicted ŷ<sub>j</sub> values lead to a smaller RMSE. This process of minimizing the loss is also called **optimization** and is one of the foundational principles of machine learning. You can find more about it [here](https://towardsdatascience.com/linear-regression-using-gradient-descent-97a6c8700931).\n",
    "\n",
    "Similarly to the classification tasks, for regression problems, the value of the RMSE can be used as a **performance metric** for the model.\n",
    "\n",
    "#### R² Correlation\n",
    "\n",
    "Now let’s say that your model was properly trained and you have some predicted labels **ŷ** and some ground truth values **y**. In the case of classification problems, with these two pieces of information you could immediately compute the F1 score or the accuracy. But with regression, a 0 to 1 score cannot be simply derived. One metric that can be used however, is the **R<sup>2</sup> correlation** and it is computed using the following formula:\n",
    "\n",
    "![r2-correlation](https://ocw.cs.pub.ro/courses/_media/ep/labs/21._r-squared_score.png?w=400&tok=30c26d)\n",
    "\n",
    "where **ŷ<sub>j</sub>** is the predicted value, **ÿ** is the mean of the ground truth labels and **y<sub>j</sub>** is the ground truth. This score lies between **-∞** and **1** and has the following interpretation:\n",
    "\n",
    "  * **Close to 1:** high positive linear correlation between X and y\n",
    "  * **Close to 0:** a linear correlation between X and y cannot be identified\n",
    "  * **Close to -∞:** high negative linear correlation between X and y\n",
    "\n",
    "These 3 scenarios are visually represented in the figures below:\n",
    "\n",
    "![correlation-types](https://statistics.laerd.com/statistical-guides/img/pearson-1-small.png)\n",
    "\n",
    "[🌎 &nbsp;Image Source](https://statistics.laerd.com/stata-tutorials/pearsons-correlation-using-stata.php)\n",
    "\n",
    "\n"
   ]
  },
  {
   "cell_type": "markdown",
   "metadata": {
    "id": "trKKzpYuusfa"
   },
   "source": [
    "---\n",
    "> ### **Hint**: For **regression tasks** you can use **RMSE** and **R-squared score** as performance metrics!\n",
    "---"
   ]
  },
  {
   "cell_type": "markdown",
   "metadata": {
    "id": "FSevKrJ_okWi"
   },
   "source": [
    "### D. Underfitting vs Overfitting\n",
    "\n",
    "Splitting the data into a **training set** and a **test set** is not only helping us to determine the **accuracy** or **error** of the model’s predictions, but can also give us an insight about its **behaviour** or **generalization capabilities**.\n",
    "\n",
    "Let’s take a trained binary classifier as an example and the accuracy as a performance metric. If it has a **small test score**, but a **high training score**, the model relied too much on the training data and is not able to generalize well on entries that has never seen before. In this case, we say that it has **overfit** the training data. In this particular case, the model is said to have a **high variance**. In contrast, if the model learned a function that is too generic, the problem of **underfitting** or **high bias** occurs. This time, the problem can be inferred from a **training score** that is **too small**. These situations were visually represented in the figures below:\n",
    "\n",
    "![fitting](https://miro.medium.com/max/1400/1*JZbxrdzabrT33Yl-LrmShw.png)\n",
    "\n",
    "[🌎 &nbsp;Image Source](https://medium.com/greyatom/what-is-underfitting-and-overfitting-in-machine-learning-and-how-to-deal-with-it-6803a989c76)\n",
    "\n",
    "The underlying causes of the aforementioned problems depend heavily on the model and how its **hyperparameters** were fine-tuned. Discussing them is outside the scope of this laboratory class, but one can learn more about those topics from these articles: [Underfitting & Overfitting](https://towardsdatascience.com/what-are-overfitting-and-underfitting-in-machine-learning-a96b30864690) and [Hyperparameters](https://towardsdatascience.com/understanding-hyperparameters-and-its-optimisation-techniques-f0debba07568)."
   ]
  },
  {
   "cell_type": "markdown",
   "metadata": {
    "id": "Xl3ZolRrvEg1"
   },
   "source": [
    "---\n",
    "> Besides looking at the usual **performance metrics**, one must also notice if the model **appropriately fits** the data!\n",
    "---"
   ]
  },
  {
   "cell_type": "markdown",
   "metadata": {
    "id": "cO3kOM-EpVCs"
   },
   "source": [
    "\n",
    "## Exercise: Clustering Algorithms\n",
    "\n",
    "In the end, we should talk a little bit about **unsupervised learning**. As you already know, for such tasks, there is **no ground truth** - just a set of X values that might have some **underlying structure** or **pattern** that can be learned. Evaluating a model without having something as reference might seem a pretty difficult task. And in some scenarios, you might be right!\n",
    "\n",
    "Say that we wanted to group images containing handwritten digits into **clusters** and at the end of the learning process, our model grouped the data like this:\n",
    "\n",
    "![digit-clustering](https://miro.medium.com/max/3200/1*R7A0qNVuOjgGh6pj4WUq5A.png)\n",
    "\n",
    "[🌎 &nbsp;Image Source](https://towardsdatascience.com/graduating-in-gans-going-from-understanding-generative-adversarial-networks-to-running-your-own-39804c283399)\n",
    "\n",
    "At first glance, the clustering outcome looks good, but how can we express this “good-looking” result in a more formal manner? One solution is to measure how compact the clusters are, yet distant from one another, by computing a **silhouette score**. Because the formulas are too cumbersome to write in here, I will leave you a [link](https://en.wikipedia.org/wiki/Silhouette_(clustering)), where everything is explained clearly. However, one might understand the concept by looking at this simple example:\n",
    "\n",
    "![silhouette-score](https://lh4.googleusercontent.com/-ku6hE_438mo/TXA0yYUWLTI/AAAAAAAAACs/UqtvwlXLkc0/s320/picture2.gif)\n",
    "\n",
    "[🌎 &nbsp;Image Source](http://blog.data-miners.com/2011/03/cluster-silhouettes.html)\n"
   ]
  },
  {
   "cell_type": "markdown",
   "metadata": {
    "id": "d47Gl2yeksCZ"
   },
   "source": [
    "## Exercise 0: Prerequisite\n",
    "\n",
    "Import the necessary libraries and define some printing functions for later use."
   ]
  },
  {
   "cell_type": "code",
   "execution_count": 2,
   "metadata": {
    "id": "PlI5jmW3XnTr"
   },
   "outputs": [],
   "source": [
    "# Import the necessary libraries\n",
    "import numpy as np\n",
    "import pandas as pd\n",
    "import matplotlib.pyplot as plt\n",
    "from sklearn.linear_model import LinearRegression\n",
    "from sklearn.tree import DecisionTreeClassifier\n",
    "from sklearn.model_selection import train_test_split\n",
    "from sklearn.cluster import KMeans\n",
    "from sklearn.datasets import make_blobs"
   ]
  },
  {
   "cell_type": "code",
   "execution_count": 3,
   "metadata": {
    "id": "ncBYKmhFaZJs"
   },
   "outputs": [],
   "source": [
    "# Load various printing functions\n",
    "\n",
    "# Pretty prints a data frame without display limits\n",
    "def print_df(df):\n",
    "    with pd.option_context('display.max_rows', None, 'display.max_columns', None):\n",
    "        print(df)\n",
    "\n",
    "\n",
    "# Pretty prints the results of the classifier performance evaluation\n",
    "def print_classifier_results(accuracy, precision, recall, f1, mode):\n",
    "    print()\n",
    "    print('~~~~~~~~~~~~~~~~ CLASSIFICATION RESULTS (' + mode.upper() + ') ~~~~~~~~~~~~~~~~')\n",
    "    print(' Accuracy: ' + str(accuracy))\n",
    "    print('Precision: ' + str(precision))\n",
    "    print('   Recall: ' + str(recall))\n",
    "    print(' F1 Score: ' + str(f1))\n",
    "\n",
    "\n",
    "# Pretty prints the results of the regressor performance evaluation\n",
    "def print_regressor_results(rmse, mae, r_squared, mode):\n",
    "    print()\n",
    "    print('~~~~~~~~~~~~~~~~ REGRESSION RESULTS (' + mode.upper() + ') ~~~~~~~~~~~~~~~~')\n",
    "    print('Root Mean Squared Error (RMSE): ' + str(rmse))\n",
    "    print('     Mean Absolute Error (MAE): ' + str(mae))\n",
    "    print('               R-squared Score: ' + str(r_squared))\n",
    "\n",
    "\n",
    "# Pretty prints the results of the multiple classifications\n",
    "def print_fitting_results(accuracy_list):\n",
    "\n",
    "    print()\n",
    "    print('~~~~~~~~~~~~~~~~ CLASSIFICATION RESULTS ~~~~~~~~~~~~~~~~')\n",
    "\n",
    "    for accuracy_pair in accuracy_list:\n",
    "        print('Training Set Accuracy 1: ' + str(accuracy_pair[0]))\n",
    "        print('    Test Set Accuracy 1: ' + str(accuracy_pair[1]))\n",
    "        print()\n",
    "\n",
    "\n",
    "# Pretty prints the results of the clustering algorithm\n",
    "def print_clustering_results(silhouette_score):\n",
    "\n",
    "    print()\n",
    "    print('~~~~~~~~~~~~~~~~ CLUSTERING RESULTS ~~~~~~~~~~~~~~~~')\n",
    "    print('Silhouette Score: ' + str(silhouette_score))\n"
   ]
  },
  {
   "cell_type": "markdown",
   "metadata": {
    "id": "JtnzaEOtgxHl"
   },
   "source": [
    "## Exercise 1: Classification\n",
    "In this exercise, you will learn how to properly evaluate a **classifier**. We chose a **decision tree** for this example, but feel free to explore other alternatives. You can find out more about decision trees [here](https://towardsdatascience.com/decision-trees-explained-3ec41632ceb6). For all the associated tasks, you will use the [diabetes.csv](https://github.com/vladastefanescu/machine-learning-introduction/blob/main/diabetes.csv) dataset. The model must learn to determine whether the patient suffers from diabetes (**0** or **1**) by looking at a dataset with the following **features**:\n",
    "\n",
    "  * Number of pregnancies\n",
    "  * Glucose level\n",
    "  * Blood pressure\n",
    "  * Skin thickness\n",
    "  * Insulin level\n",
    "  * Body Mass Index (BMI)\n",
    "  * Diabetes pedigree function (likelihood of diabetes based on family history)\n",
    "  * Age"
   ]
  },
  {
   "cell_type": "code",
   "execution_count": 4,
   "metadata": {
    "colab": {
     "base_uri": "https://localhost:8080/"
    },
    "id": "XK-CVa-Lg1y6",
    "outputId": "b10e2d0f-6d25-4893-f881-8bc1e0f3e8be"
   },
   "outputs": [
    {
     "name": "stdout",
     "output_type": "stream",
     "text": [
      "   Pregnancies  Glucose  BloodPressure  SkinThickness  Insulin   BMI  \\\n",
      "0            6      148             72             35        0  33.6   \n",
      "1            1       85             66             29        0  26.6   \n",
      "2            8      183             64              0        0  23.3   \n",
      "3            1       89             66             23       94  28.1   \n",
      "4            0      137             40             35      168  43.1   \n",
      "\n",
      "   DiabetesPedigreeFunction  Age  Outcome  \n",
      "0                     0.627   50        1  \n",
      "1                     0.351   31        0  \n",
      "2                     0.672   32        1  \n",
      "3                     0.167   21        0  \n",
      "4                     2.288   33        1  \n"
     ]
    }
   ],
   "source": [
    "# Load the dataset from the local session folder\n",
    "classification_dataset = pd.read_csv(\"https://raw.githubusercontent.com/vladastefanescu/machine-learning-introduction/main/diabetes.csv\")\n",
    "\n",
    "# Take a look at the first entries of the dataset\n",
    "print_df(classification_dataset.head())"
   ]
  },
  {
   "cell_type": "code",
   "execution_count": 5,
   "metadata": {
    "id": "YikM5ILSiRK5"
   },
   "outputs": [],
   "source": [
    "# Extract the features from the dataset\n",
    "classification_X = classification_dataset.iloc[:, :-1]\n",
    "\n",
    "# Extract the labels from the dataset\n",
    "classification_y = classification_dataset.iloc[:, -1:]"
   ]
  },
  {
   "cell_type": "code",
   "execution_count": 6,
   "metadata": {
    "id": "8e-Ev9JRid7F"
   },
   "outputs": [],
   "source": [
    "# Split the data into a training set and a test set with a 80-20 ratio\n",
    "classification_X_train, classification_X_test, classification_y_train, classification_y_test = train_test_split(classification_X, classification_y, test_size=0.2, random_state=42)"
   ]
  },
  {
   "cell_type": "code",
   "execution_count": 7,
   "metadata": {
    "id": "MTyLuOBGiqxj"
   },
   "outputs": [],
   "source": [
    "# Build a classifier (less important: a decision tree will be used)\n",
    "classifier = DecisionTreeClassifier(random_state=42)\n",
    "\n",
    "# Fit data from the training set to the classifier\n",
    "classifier.fit(classification_X_train, classification_y_train)\n",
    "\n",
    "# Make predictions on the test set\n",
    "classification_y_pred = classifier.predict(classification_X_test)"
   ]
  },
  {
   "cell_type": "markdown",
   "metadata": {
    "id": "l0R2wgNpi4Aq"
   },
   "source": [
    "### Task A\n",
    "Evaluate the classifier by **manually** computing the **accuracy**, **precision**, **recall** and **F1 score**. These metrics are derived from the **confusion matrix** but you don't have to build this matrix yourself. You can use [Scikit-learn](https://www.google.com/search?q=scikit-learn+confusion+matrix&oq=scikit-learn+confusion+matrix) for that."
   ]
  },
  {
   "cell_type": "code",
   "execution_count": 51,
   "metadata": {},
   "outputs": [],
   "source": [
    "from sklearn.metrics import confusion_matrix\n",
    "\n",
    "cm = confusion_matrix(classification_y_test, classification_y_pred)"
   ]
  },
  {
   "cell_type": "code",
   "execution_count": 52,
   "metadata": {
    "id": "OBVsEPkwi8LL"
   },
   "outputs": [],
   "source": [
    "# Computes the accuracy of the model using the confusion matrix\n",
    "def compute_accuracy(cm):\n",
    "    # TODO - TASK A\n",
    "    accuracy = np.trace(cm) / np.sum(cm)\n",
    "    return accuracy"
   ]
  },
  {
   "cell_type": "code",
   "execution_count": 53,
   "metadata": {
    "id": "RgXU3QoHjBku"
   },
   "outputs": [],
   "source": [
    "# Computes the precision of the model using the confusion matrix\n",
    "def compute_precision(cm):\n",
    "    # TODO - TASK A\n",
    "    precision = cm[1][1] / (cm[1][1] + cm[0][1])\n",
    "    return precision"
   ]
  },
  {
   "cell_type": "code",
   "execution_count": 54,
   "metadata": {
    "id": "b2fTgY3VjDGl"
   },
   "outputs": [],
   "source": [
    "# Computes the recall of the model using the confusion matrix\n",
    "def compute_recall(cm):\n",
    "    # TODO - TASK A\n",
    "    recall = cm[1][1] / (cm[1][1] + cm[1][0])\n",
    "    return recall"
   ]
  },
  {
   "cell_type": "code",
   "execution_count": 55,
   "metadata": {
    "id": "cQfdlB9TjFfw"
   },
   "outputs": [],
   "source": [
    "# Computes the F1 score of the model using the precision and recall\n",
    "def compute_f1_score(precision, recall):\n",
    "    # TODO - TASK A\n",
    "    # The F1 score is the harmonic mean of precision and recall\n",
    "    f1 = 2 * (precision * recall) / (precision + recall)\n",
    "    return f1"
   ]
  },
  {
   "cell_type": "markdown",
   "metadata": {
    "id": "Jp4RE1G70fFn"
   },
   "source": [
    ">Before anything else, we must compute the **confusion matrix**. Luckily, the **metrics** package of the *Scikit-learn* library has just the right function for this task:\n",
    "\n",
    "```\n",
    "cm = confusion_matrix(y_test, y_pred)\n",
    "cm[0][0], cm[1][1] = cm[1][1], cm[0][0]\n",
    "```\n",
    "\n",
    "---\n",
    "> Please note that in order to compute a binary confusion matrix that looks just like the ones used in the above diagrams, a small swap has to be performed.\n",
    "---\n",
    "\n",
    "For this exercise we simply identify the **TP**, **TN**, **FP**, **FN** terms on the **confusion matrix** and then compute the various metrics using their formulas. For instance, for the **precision**, we can write the following lines of code:\n",
    "\n",
    "```\n",
    "precision = cm[0][0] / (cm[0][0] + cm[0][1])\n",
    "```\n",
    "\n",
    "---\n",
    ">  You should be able to compute the **accuracy**, **recall** and **F1 score** by yourself.\n",
    "---"
   ]
  },
  {
   "cell_type": "code",
   "execution_count": 56,
   "metadata": {
    "colab": {
     "base_uri": "https://localhost:8080/"
    },
    "id": "kDyqs3O2jLku",
    "outputId": "15904407-f7f1-497f-caa1-f7f44a7906ef"
   },
   "outputs": [
    {
     "name": "stdout",
     "output_type": "stream",
     "text": [
      "\n",
      "~~~~~~~~~~~~~~~~ CLASSIFICATION RESULTS (DUMB) ~~~~~~~~~~~~~~~~\n",
      " Accuracy: 0.7467532467532467\n",
      "Precision: 0.625\n",
      "   Recall: 0.7272727272727273\n",
      " F1 Score: 0.6722689075630253\n"
     ]
    }
   ],
   "source": [
    "# TODO - TASK A\n",
    "#cm = None\n",
    "\n",
    "task_a_accuracy = compute_accuracy(cm)\n",
    "task_a_precision = compute_precision(cm)\n",
    "task_a_recall = compute_recall(cm)\n",
    "task_a_f1 = compute_f1_score(task_a_precision, task_a_recall)\n",
    "\n",
    "print_classifier_results(task_a_accuracy, task_a_precision, task_a_recall, task_a_f1, 'dumb')"
   ]
  },
  {
   "cell_type": "markdown",
   "metadata": {
    "id": "BEXMPg8UjdOI"
   },
   "source": [
    "### Task B\n",
    "Evaluate the classifier using the **metrics** package from the *Scikit-learn* library. Again, **accuracy**, **precision**, **recall** and **F1 score** are required."
   ]
  },
  {
   "cell_type": "code",
   "execution_count": 50,
   "metadata": {
    "colab": {
     "base_uri": "https://localhost:8080/"
    },
    "id": "CxfOFZFWjfEl",
    "outputId": "d17060a7-c57c-4b7a-d437-64b9598d20d3"
   },
   "outputs": [
    {
     "name": "stdout",
     "output_type": "stream",
     "text": [
      "\n",
      "~~~~~~~~~~~~~~~~ CLASSIFICATION RESULTS (SMART) ~~~~~~~~~~~~~~~~\n",
      " Accuracy: 0.7467532467532467\n",
      "Precision: 0.625\n",
      "   Recall: 0.7272727272727273\n",
      " F1 Score: 0.6722689075630253\n"
     ]
    }
   ],
   "source": [
    "# TODO - TASK B\n",
    "from sklearn.metrics import accuracy_score, precision_score, recall_score, f1_score\n",
    "task_b_accuracy = accuracy_score(classification_y_test, classification_y_pred)\n",
    "task_b_precision = precision_score(classification_y_test, classification_y_pred, average='binary')  \n",
    "task_b_recall = recall_score(classification_y_test, classification_y_pred, average='binary')  \n",
    "task_b_f1 = f1_score(classification_y_test, classification_y_pred, average='binary')  \n",
    "\n",
    "print_classifier_results(task_b_accuracy, task_b_precision, task_b_recall, task_b_f1, 'smart')"
   ]
  },
  {
   "cell_type": "markdown",
   "metadata": {
    "id": "du9LS4X1b_H-"
   },
   "source": [
    "## Exercise 2: Linear Regression\n",
    "In this exercise, you will learn how to properly evaluate a **regression model**. We chose a **simple linear regressor** for this example, but feel free to explore other alternatives. You can find out more about linear regressors [here](https://www.kdnuggets.com/2019/03/beginners-guide-linear-regression-python-scikit-learn.html). For all the associated tasks, you will use the [weather.csv](https://github.com/vladastefanescu/machine-learning-introduction/blob/main/weather.csv) dataset. The model must learn to determine what is the **maximum temperature** for a certain day (**y**) based on the **minimum temperature** (**X**).\n"
   ]
  },
  {
   "cell_type": "code",
   "execution_count": 15,
   "metadata": {
    "colab": {
     "base_uri": "https://localhost:8080/"
    },
    "id": "3GDNE91bZXlO",
    "outputId": "5d655ef7-371d-4ae5-fdc9-b385e3a033d6"
   },
   "outputs": [
    {
     "name": "stdout",
     "output_type": "stream",
     "text": [
      "     MinTemp    MaxTemp\n",
      "0  22.222222  25.555556\n",
      "1  21.666667  28.888889\n",
      "2  22.222222  26.111111\n",
      "3  22.222222  26.666667\n",
      "4  21.666667  26.666667\n"
     ]
    }
   ],
   "source": [
    "# Load the dataset from the local session folder\n",
    "regression_dataset = pd.read_csv(\"https://raw.githubusercontent.com/vladastefanescu/machine-learning-introduction/main/weather.csv\", dtype=np.float64)\n",
    "\n",
    "# Take a look at the first entries of the dataset\n",
    "print_df(regression_dataset.head())"
   ]
  },
  {
   "cell_type": "code",
   "execution_count": 16,
   "metadata": {
    "id": "lDCUAdnEawwg"
   },
   "outputs": [],
   "source": [
    "# Extract the features from the dataset\n",
    "regression_X = regression_dataset.iloc[:, :-1]\n",
    "\n",
    "# Extract the labels from the dataset\n",
    "regression_y = regression_dataset.iloc[:, -1:]"
   ]
  },
  {
   "cell_type": "code",
   "execution_count": 17,
   "metadata": {
    "id": "nBhA_77fbDqT"
   },
   "outputs": [],
   "source": [
    "# Split the data into a training set and a test set with a 80-20 ratio\n",
    "regression_X_train, regression_X_test, regression_y_train, regression_y_test = train_test_split(regression_X, regression_y, test_size=0.2, random_state=42)"
   ]
  },
  {
   "cell_type": "code",
   "execution_count": 18,
   "metadata": {
    "id": "bhKiXZGbbd-_"
   },
   "outputs": [],
   "source": [
    "# Build a linear regressor\n",
    "regressor = LinearRegression()\n",
    "\n",
    "# Fit data from the training set to the regressor\n",
    "regressor.fit(regression_X_train, regression_y_train)\n",
    "\n",
    "# Make predictions on the test set\n",
    "regression_y_pred = regressor.predict(regression_X_test)"
   ]
  },
  {
   "cell_type": "markdown",
   "metadata": {
    "id": "-lRDsGheeB_K"
   },
   "source": [
    "### Task A\n",
    "\n",
    "Evaluate the regressor by **manually** computing the **Root Mean Squared Error (RMSE)**, **Mean Absolute Error (MAE)** and **R² score**.\n",
    "\n",
    "For instance, for the **RMSE** we simply apply the formula above:\n",
    "\n",
    "```\n",
    "rmse = list(np.sqrt(np.sum((y_test - y_pred) ** 2) / len(y_test)))[0]\n",
    "```\n",
    "\n",
    "---\n",
    ">  You should be able to compute **MAE** and **R² score** on your own!\n",
    "---\n"
   ]
  },
  {
   "cell_type": "code",
   "execution_count": 40,
   "metadata": {
    "id": "gS__DyPheD0k"
   },
   "outputs": [],
   "source": [
    "# Computes the RMSE of the model\n",
    "def compute_rmse(y_test, y_pred):\n",
    "    # TODO - TASK A\n",
    "    rmse = list(np.sqrt(np.sum((y_test - y_pred) ** 2) / len(y_test)))[0]\n",
    "    return rmse"
   ]
  },
  {
   "cell_type": "markdown",
   "metadata": {
    "id": "2n8WJ8Uz3A_z"
   },
   "source": [
    "---\n",
    "> We know that **MAE** was not covered in the first section of this laboratory class and that is why you must use your powerful [Google](https://www.google.com/search?q=mean+absolute+error&oq=mean+absolute+error) skills to solve this one. 😊\n",
    "---"
   ]
  },
  {
   "cell_type": "code",
   "execution_count": 41,
   "metadata": {
    "id": "NlXKzdNheK9D"
   },
   "outputs": [],
   "source": [
    "# Computes the MAE of the model\n",
    "def compute_mae(y_test, y_pred):\n",
    "    # TODO - TASK A\n",
    "    mae = list(np.mean(np.abs(y_test - y_pred)))[0]\n",
    "    return mae"
   ]
  },
  {
   "cell_type": "code",
   "execution_count": 42,
   "metadata": {
    "id": "hgBe8auWeRBh"
   },
   "outputs": [],
   "source": [
    "# Computes the R-squared score of the model\n",
    "def compute_r2_score(y_test, y_pred):\n",
    "    # TODO - TASK A\n",
    "    ss_res = np.sum((y_test - y_pred) ** 2)  # Sum of squares of residuals\n",
    "    ss_tot = np.sum((y_test - np.mean(y_test)) ** 2)  # Total sum of squares\n",
    "    r2 = list(1 - (ss_res / ss_tot))[0]  \n",
    "    return r2"
   ]
  },
  {
   "cell_type": "code",
   "execution_count": 43,
   "metadata": {
    "colab": {
     "base_uri": "https://localhost:8080/"
    },
    "id": "OYe8vromehIT",
    "outputId": "d1c92556-2ac8-482c-c1e8-5b6ffa8c3e82"
   },
   "outputs": [
    {
     "name": "stdout",
     "output_type": "stream",
     "text": [
      "\n",
      "~~~~~~~~~~~~~~~~ REGRESSION RESULTS (DUMB) ~~~~~~~~~~~~~~~~\n",
      "Root Mean Squared Error (RMSE): 4.137065480286405\n",
      "     Mean Absolute Error (MAE): 3.1774831170418696\n",
      "               R-squared Score: 0.7721546572105612\n"
     ]
    }
   ],
   "source": [
    "task_a_rmse = compute_rmse(regression_y_test, regression_y_pred)\n",
    "task_a_mae = compute_mae(regression_y_test, regression_y_pred)\n",
    "task_a_r_squared = compute_r2_score(regression_y_test, regression_y_pred)\n",
    "\n",
    "print_regressor_results(task_a_rmse, task_a_mae, task_a_r_squared, 'dumb')"
   ]
  },
  {
   "cell_type": "markdown",
   "metadata": {
    "id": "BoTUTYY_e5DY"
   },
   "source": [
    "### Task B\n",
    "\n",
    "Evaluate the regressor using the **metrics** package from the *Scikit-learn* library. Again, **RMSE**, **MAE** and **R² score** are required.\n",
    "\n",
    "---\n",
    ">  **HINT:** You might not find a function that computes the actual **RMSE**, but the **MSE**.\n",
    "---"
   ]
  },
  {
   "cell_type": "code",
   "execution_count": 23,
   "metadata": {
    "id": "Lxpwzu6De65V"
   },
   "outputs": [],
   "source": [
    "# TODO - TASK B\n",
    "from sklearn.metrics import mean_squared_error, mean_absolute_error, r2_score\n",
    "import numpy as np\n",
    "\n",
    "# RMSE\n",
    "task_b_rmse = np.sqrt(mean_squared_error(regression_y_test, regression_y_pred))\n",
    "# MAE\n",
    "task_b_mae = mean_absolute_error(regression_y_test, regression_y_pred)\n",
    "# R² score\n",
    "task_b_r_squared = r2_score(regression_y_test, regression_y_pred)"
   ]
  },
  {
   "cell_type": "code",
   "execution_count": 24,
   "metadata": {
    "colab": {
     "base_uri": "https://localhost:8080/"
    },
    "id": "WCGg44NNfc8b",
    "outputId": "4c1af0a6-85c9-471c-daaa-d96c6fca7f77"
   },
   "outputs": [
    {
     "name": "stdout",
     "output_type": "stream",
     "text": [
      "\n",
      "~~~~~~~~~~~~~~~~ REGRESSION RESULTS (SMART) ~~~~~~~~~~~~~~~~\n",
      "Root Mean Squared Error (RMSE): 4.137065480286405\n",
      "     Mean Absolute Error (MAE): 3.1774831170417808\n",
      "               R-squared Score: 0.7721546572105612\n"
     ]
    }
   ],
   "source": [
    "print_regressor_results(task_b_rmse, task_b_mae, task_b_r_squared, 'smart')"
   ]
  },
  {
   "cell_type": "markdown",
   "metadata": {
    "id": "E8U4WIS-fngT"
   },
   "source": [
    "### Task C\n",
    "Train the model on variously sized chunks of the original dataset and notice how the **RMSE** changes. To better illustrate the behaviour, you should build a **plot** having the **data size** on the **X axis** and the **RMSE value** on the **Y axis**. Moreover, you should be able to **explain** the observed behaviour to the assistant.\n",
    "\n",
    "Because this is rather a plotting task, we will do the hard work for you and compute the list of RMSE values for the various chunk sizes:\n",
    "\n",
    "```\n",
    "n = min(X.shape[0], max_chunk_size)\n",
    "chunk_size = int((n - min_chunk_size) / chunks)\n",
    "\n",
    "# Create 2 lists used in the plotting logic\n",
    "size_list = []\n",
    "rmse_list = []\n",
    "\n",
    "# Train a model for each chunk\n",
    "for i in range(0, chunks):\n",
    "\n",
    "    # Compute the size of the current chunk\n",
    "    size = min_chunk_size + (i + 1) * chunk_size\n",
    "    size_list.append(size)\n",
    "\n",
    "    # Select a chunk from the whole dataset\n",
    "    sample_X = X.sample(n=size, random_state=42)\n",
    "    sample_y = y.sample(n=size, random_state=42)\n",
    "\n",
    "    # Split the data into a training set and a test set with a 80-20 ratio\n",
    "    X_train, X_test, y_train, y_test = train_test_split(sample_X, sample_y, test_size=0.2, random_state=42)\n",
    "\n",
    "    # Build a linear regressor\n",
    "    regressor = LinearRegression()\n",
    "\n",
    "    # Fit data from the training set to the regressor\n",
    "    regressor.fit(X_train, y_train)\n",
    "\n",
    "    # Make predictions on the test set\n",
    "    y_pred = regressor.predict(X_test)\n",
    "\n",
    "    # Compute the rmse\n",
    "    rmse = compute_rmse(y_test, y_pred)\n",
    "    rmse_list.append(rmse)\n",
    "```\n",
    "\n",
    "Please read the code and try to understand it by following the comments. Building the plot is on you!"
   ]
  },
  {
   "cell_type": "code",
   "execution_count": 25,
   "metadata": {
    "id": "2I4toYvffzP8"
   },
   "outputs": [],
   "source": [
    "# Plots the evolution of the RMSE when the dataset size varies\n",
    "def plot_rmse_evolution(X, y, chunks, min_chunk_size, max_chunk_size):\n",
    "    # TODO - TASC C\n",
    "    # HINT: See the code above\n",
    "    # Build the list of RMSE values\n",
    "\n",
    "    # Plot the RMSE evolution\n",
    "    n = min(X.shape[0], max_chunk_size)\n",
    "    chunk_size = int((n - min_chunk_size) / chunks)\n",
    "\n",
    "    # Create 2 lists used in the plotting logic\n",
    "    size_list = []\n",
    "    rmse_list = []\n",
    "\n",
    "    # Train a model for each chunk\n",
    "    for i in range(0, chunks):\n",
    "\n",
    "        # Compute the size of the current chunk\n",
    "        size = min_chunk_size + (i + 1) * chunk_size\n",
    "        size_list.append(size)\n",
    "\n",
    "        # Select a chunk from the whole dataset\n",
    "        sample_X = X.sample(n=size, random_state=42)\n",
    "        sample_y = y.sample(n=size, random_state=42)\n",
    "\n",
    "        # Split the data into a training set and a test set with an 80-20 ratio\n",
    "        X_train, X_test, y_train, y_test = train_test_split(sample_X, sample_y, test_size=0.2, random_state=42)\n",
    "\n",
    "        # Build a linear regressor\n",
    "        regressor = LinearRegression()\n",
    "\n",
    "        # Fit data from the training set to the regressor\n",
    "        regressor.fit(X_train, y_train)\n",
    "\n",
    "        # Make predictions on the test set\n",
    "        y_pred = regressor.predict(X_test)\n",
    "\n",
    "        # Compute the rmse\n",
    "        rmse = np.sqrt(mean_squared_error(y_test, y_pred))\n",
    "        rmse_list.append(rmse)\n",
    "\n",
    "    plt.plot(size_list, rmse_list)\n",
    "    plt.xlabel('Data Size')\n",
    "    plt.ylabel('RMSE')\n",
    "    plt.title('RMSE Evolution as Data Size Increases')\n",
    "    plt.show()\n",
    "    # TODO - TASK C\n",
    "    # Plot the RMSE evolution"
   ]
  },
  {
   "cell_type": "markdown",
   "metadata": {
    "id": "JPl0A44T4Xtl"
   },
   "source": [
    "Play with the following parameters and observe how the plot changes. Make **at least 5** changes to the chunk-related parameters. That means that **5 plots should be generated**."
   ]
  },
  {
   "cell_type": "code",
   "execution_count": 26,
   "metadata": {
    "id": "kdph29_9gLzQ"
   },
   "outputs": [
    {
     "data": {
      "image/png": "[encoded data removed]",
      "text/plain": [
       "<Figure size 432x288 with 1 Axes>"
      ]
     },
     "metadata": {
      "needs_background": "light"
     },
     "output_type": "display_data"
    },
    {
     "data": {
      "image/png": "[encoded data removed]",
      "text/plain": [
       "<Figure size 432x288 with 1 Axes>"
      ]
     },
     "metadata": {
      "needs_background": "light"
     },
     "output_type": "display_data"
    },
    {
     "data": {
      "image/png": "[encoded data removed]",
      "text/plain": [
       "<Figure size 432x288 with 1 Axes>"
      ]
     },
     "metadata": {
      "needs_background": "light"
     },
     "output_type": "display_data"
    },
    {
     "data": {
      "image/png": "[encoded data removed]",
      "text/plain": [
       "<Figure size 432x288 with 1 Axes>"
      ]
     },
     "metadata": {
      "needs_background": "light"
     },
     "output_type": "display_data"
    },
    {
     "data": {
      "image/png": "[encoded data removed]",
      "text/plain": [
       "<Figure size 432x288 with 1 Axes>"
      ]
     },
     "metadata": {
      "needs_background": "light"
     },
     "output_type": "display_data"
    }
   ],
   "source": [
    "# TODO - TASK C\n",
    "CHUNKS = 100\n",
    "MIN_CHUNK_SIZE = 1000\n",
    "MAX_CHUNK_SIZE = 1000000\n",
    "\n",
    "plot_rmse_evolution(regression_X, regression_y, CHUNKS, MIN_CHUNK_SIZE, MAX_CHUNK_SIZE)\n",
    "\n",
    "# Change CHUNKS from 100 to 50\n",
    "CHUNKS = 50\n",
    "plot_rmse_evolution(regression_X, regression_y, CHUNKS, MIN_CHUNK_SIZE, MAX_CHUNK_SIZE)\n",
    "\n",
    "# Increase MIN_CHUNK_SIZE from 1000 to 2000\n",
    "MIN_CHUNK_SIZE = 5000\n",
    "plot_rmse_evolution(regression_X, regression_y, CHUNKS, MIN_CHUNK_SIZE, MAX_CHUNK_SIZE)\n",
    "\n",
    "# Decrease MAX_CHUNK_SIZE from 1000000 to 500000\n",
    "MAX_CHUNK_SIZE = 500000\n",
    "plot_rmse_evolution(regression_X, regression_y, CHUNKS, MIN_CHUNK_SIZE, MAX_CHUNK_SIZE)\n",
    "\n",
    "# Change all parameters at once: CHUNKS to 30, MIN_CHUNK_SIZE to 1500 and MAX_CHUNK_SIZE to 600000\n",
    "CHUNKS = 30\n",
    "MIN_CHUNK_SIZE = 1500\n",
    "MAX_CHUNK_SIZE = 600000\n",
    "plot_rmse_evolution(regression_X, regression_y, CHUNKS, MIN_CHUNK_SIZE, MAX_CHUNK_SIZE)"
   ]
  },
  {
   "cell_type": "markdown",
   "metadata": {
    "id": "ywIb1viTl0jl"
   },
   "source": [
    "## Exercise 3: Fitting Behaviour\n",
    "\n",
    "In this exercise, you will learn how to properly evaluate the **data fitting behaviour** of the **binary classifier** from **exercise 1**. For all the associated tasks, you will use the [diabetes.csv](https://github.com/vladastefanescu/machine-learning-introduction/blob/main/diabetes.csv) dataset again. This time, **3 models** will be trained with different parameters and your job is to analyse their behaviour. For that, you will look at the **accuracy** of each model computed on both the **training set** and the **test set**."
   ]
  },
  {
   "cell_type": "code",
   "execution_count": 27,
   "metadata": {
    "colab": {
     "base_uri": "https://localhost:8080/"
    },
    "id": "2rg4xLH0l3h9",
    "outputId": "12fc0826-e24d-4a02-e698-418832f1ed5b",
    "scrolled": false
   },
   "outputs": [
    {
     "name": "stdout",
     "output_type": "stream",
     "text": [
      "   Pregnancies  Glucose  BloodPressure  SkinThickness  Insulin   BMI  \\\n",
      "0            6      148             72             35        0  33.6   \n",
      "1            1       85             66             29        0  26.6   \n",
      "2            8      183             64              0        0  23.3   \n",
      "3            1       89             66             23       94  28.1   \n",
      "4            0      137             40             35      168  43.1   \n",
      "\n",
      "   DiabetesPedigreeFunction  Age  Outcome  \n",
      "0                     0.627   50        1  \n",
      "1                     0.351   31        0  \n",
      "2                     0.672   32        1  \n",
      "3                     0.167   21        0  \n",
      "4                     2.288   33        1  \n"
     ]
    }
   ],
   "source": [
    "# Load the dataset from the local session folder\n",
    "fitting_dataset = pd.read_csv(\"https://raw.githubusercontent.com/vladastefanescu/machine-learning-introduction/main/diabetes.csv\")\n",
    "\n",
    "# Take a look at the first entries of the dataset\n",
    "print_df(fitting_dataset.head())"
   ]
  },
  {
   "cell_type": "code",
   "execution_count": 28,
   "metadata": {
    "id": "exi9ikYnmIV9"
   },
   "outputs": [],
   "source": [
    "# Extract the features from the dataset\n",
    "fitting_X = fitting_dataset.iloc[:, :-1]\n",
    "\n",
    "# Extract the labels from the dataset\n",
    "fitting_y = fitting_dataset.iloc[:, -1:]"
   ]
  },
  {
   "cell_type": "code",
   "execution_count": 29,
   "metadata": {
    "id": "l9nlVoJjmYUP"
   },
   "outputs": [],
   "source": [
    "# Split the data into a training set and a test set with a 80-20 ratio\n",
    "fitting_X_train, fitting_X_test, fitting_y_train, fitting_y_test = train_test_split(fitting_X, fitting_y, test_size=0.2, random_state=42)"
   ]
  },
  {
   "cell_type": "code",
   "execution_count": 30,
   "metadata": {
    "id": "wm_vksG6mnzd"
   },
   "outputs": [],
   "source": [
    "# Build 3 different trained models\n",
    "classifiers = [DecisionTreeClassifier(max_depth=1, random_state=42).fit(fitting_X_train, fitting_y_train),\n",
    "               DecisionTreeClassifier(max_depth=5, random_state=42).fit(fitting_X_train, fitting_y_train),\n",
    "               DecisionTreeClassifier(max_depth=32, random_state=42).fit(fitting_X_train, fitting_y_train)]"
   ]
  },
  {
   "cell_type": "markdown",
   "metadata": {
    "id": "zt2i2F5QnLK_"
   },
   "source": [
    "### Task A\n",
    "\n",
    "For each model, make predictions on both the **training set** and **test set** and compute the corresponding **accuracy values**."
   ]
  },
  {
   "cell_type": "code",
   "execution_count": 31,
   "metadata": {
    "id": "DjS8fh1mnPYA"
   },
   "outputs": [],
   "source": [
    "# Makes prediction on both the training set and test set\n",
    "# HINT 1: You can reuse some code from the previous exercises\n",
    "# HINT 2: The models are already trained\n",
    "def make_predictions(clf, X_train, X_test, y_train, y_test):\n",
    "    # TODO - TASK A\n",
    "    # Make prediction on training set and compute accuracy\n",
    "    y_train_pred = clf.predict(X_train)\n",
    "    train_accuracy = accuracy_score(y_train, y_train_pred)\n",
    "    # Make prediction on test set and compute accuracy\n",
    "    y_test_pred = clf.predict(X_test)\n",
    "    test_accuracy = accuracy_score(y_test, y_test_pred)\n",
    "    return train_accuracy, test_accuracy"
   ]
  },
  {
   "cell_type": "code",
   "execution_count": 32,
   "metadata": {
    "colab": {
     "base_uri": "https://localhost:8080/"
    },
    "id": "6Dh0prrgm-Nq",
    "outputId": "17c064f5-55e8-432b-df4a-7ffd64a9020c"
   },
   "outputs": [
    {
     "name": "stdout",
     "output_type": "stream",
     "text": [
      "\n",
      "~~~~~~~~~~~~~~~~ CLASSIFICATION RESULTS ~~~~~~~~~~~~~~~~\n",
      "Training Set Accuracy 1: 0.7345276872964169\n",
      "    Test Set Accuracy 1: 0.7402597402597403\n",
      "\n",
      "Training Set Accuracy 1: 0.8420195439739414\n",
      "    Test Set Accuracy 1: 0.7922077922077922\n",
      "\n",
      "Training Set Accuracy 1: 1.0\n",
      "    Test Set Accuracy 1: 0.7467532467532467\n",
      "\n"
     ]
    }
   ],
   "source": [
    "# Make predictions on the training and test sets and evaluate the performance of each model\n",
    "accuracy_list = []\n",
    "for clf in classifiers:\n",
    "    accuracy_list.append(make_predictions(clf, fitting_X_train, fitting_X_test, fitting_y_train, fitting_y_test))\n",
    "\n",
    "# Print the performance evaluation results\n",
    "print_fitting_results(accuracy_list)"
   ]
  },
  {
   "cell_type": "markdown",
   "metadata": {
    "id": "kMVq5V7rne_o"
   },
   "source": [
    "### Task B\n",
    "\n",
    "Comment the results by specifying which is the **best model** in terms of fitting and which are the models that **overfit** or **underfit** the dataset."
   ]
  },
  {
   "cell_type": "markdown",
   "metadata": {
    "colab": {
     "base_uri": "https://localhost:8080/",
     "height": 35
    },
    "id": "WTiKPCSOniVj",
    "outputId": "7189de29-2e29-4475-819d-045571828d68"
   },
   "source": [
    "\"\"\"\n",
    "TODO - TASK B\n",
    "\n",
    "**Model 1 (Max Depth = 1)**: <br>\n",
    "Training Set Accuracy: 73.45% <br>\n",
    "Test Set Accuracy: 74.03% <br>\n",
    "This model is likely underfitting the dataset. Underfitting occurs when a model is too simple to capture the underlying structure of the data. The signs of underfitting are similar performance on both the training and test sets but at a low accuracy level. Since the model is not complex enough (only one decision node), it cannot capture the nuances in the data, leading to suboptimal performance.<br>\n",
    "\n",
    "**Model 2 (Max Depth = 5)**:<br>\n",
    "Training Set Accuracy: 84.20%<br>\n",
    "Test Set Accuracy: 79.22%<br>\n",
    "This model is the best among the three in terms of fitting. It provides a good balance between bias and variance, capturing the underlying data patterns well while still maintaining a good generalization to the test data. The test accuracy is high but not too close to the training accuracy, which suggests the model is not overfitting.\n",
    "\n",
    "**Model 3 (Max Depth = 32)**:<br>\n",
    "Training Set Accuracy: 100%<br>\n",
    "Test Set Accuracy: 74.68%<br>\n",
    "This model is overfitting the dataset. Overfitting occurs when a model is too complex relative to the simplicity of the data. It learns the training data too well, including its noise and outliers, which harms its performance on unseen data. The perfect training accuracy indicates that the model has likely memorized the training data, while the drop in test accuracy suggests it does not generalize well.<br>\n",
    "\n",
    "**Conclusion**: The best model in terms of fitting is Model 2 with a maximum depth of 5. It achieves the highest test accuracy, which is the key metric since it represents the model's ability to generalize to new, unseen data. Model 1 underfits the data, and Model 3 overfits it. The goal in model selection is to find a model that learns well from the training data but also performs well on new data, and Model 2 meets these criteria the best.\n",
    "\n",
    "\"\"\""
   ]
  },
  {
   "cell_type": "markdown",
   "metadata": {
    "id": "tGpHojJxn5IT"
   },
   "source": [
    "## Exercise 4: Clustering\n",
    "\n",
    "In this exercise, you will learn how to properly evaluate a **clustering model**. We chose a **K-means clustering algorithm** for this example, but feel free to explore other alternatives. You can find out more about K-means clustering algorithms [here](https://towardsdatascience.com/understanding-k-means-clustering-in-machine-learning-6a6e67336aa1). For all the associated tasks, you don't have to use any input dataset, because the clusters are generated in the skeleton. The model must learn how to group together **points in a 2D space**."
   ]
  },
  {
   "cell_type": "code",
   "execution_count": 33,
   "metadata": {
    "id": "zlpxT-zyn7i_"
   },
   "outputs": [],
   "source": [
    "# NOTE: You can play around with these values\n",
    "CLUSTERS = 4\n",
    "SAMPLES = 300\n",
    "CLUSTERS_STD = 2\n",
    "\n",
    "# Generate a dataset\n",
    "clustering_X, _ = make_blobs(n_samples=SAMPLES, centers=CLUSTERS, cluster_std=CLUSTERS_STD, random_state=13)"
   ]
  },
  {
   "cell_type": "code",
   "execution_count": 34,
   "metadata": {
    "colab": {
     "base_uri": "https://localhost:8080/",
     "height": 265
    },
    "id": "K3nbWrscpUHY",
    "outputId": "dc6c0c54-66e1-45a4-dd61-03b7ff6a229d"
   },
   "outputs": [
    {
     "data": {
      "image/png": "[encoded data removed]",
      "text/plain": [
       "<Figure size 432x288 with 1 Axes>"
      ]
     },
     "metadata": {
      "needs_background": "light"
     },
     "output_type": "display_data"
    }
   ],
   "source": [
    "# Plot the freshly generated blobs\n",
    "plt.scatter(clustering_X[:, 0], clustering_X[:, 1], s=50)\n",
    "plt.show()"
   ]
  },
  {
   "cell_type": "code",
   "execution_count": 35,
   "metadata": {
    "id": "J36-gLd0pjgq"
   },
   "outputs": [],
   "source": [
    "# Create a clustering model (less important: a K-means clustering algorithm will be used)\n",
    "clustering_model = KMeans(n_clusters=CLUSTERS, random_state=13)\n",
    "\n",
    "# Fit the data\n",
    "clustering_model.fit(clustering_X)\n",
    "\n",
    "# Predict a cluster number for each point\n",
    "clustering_y_pred = clustering_model.predict(clustering_X)"
   ]
  },
  {
   "cell_type": "markdown",
   "metadata": {
    "id": "ZRosTyMlp6ad"
   },
   "source": [
    "### Task A\n",
    "\n",
    "Compute the **silhouette score** of the model by using a *Scikit-learn* function found in the **metrics** package."
   ]
  },
  {
   "cell_type": "code",
   "execution_count": 36,
   "metadata": {
    "colab": {
     "base_uri": "https://localhost:8080/",
     "height": 200
    },
    "executionInfo": {
     "elapsed": 7,
     "status": "error",
     "timestamp": 1664427293786,
     "user": {
      "displayName": "Mia Huong Nguyen",
      "userId": "01709159028538583059"
     },
     "user_tz": -480
    },
    "id": "nCKz4wLep9Ps",
    "outputId": "223f615b-a609-4a3b-c976-7ee72724672d"
   },
   "outputs": [
    {
     "name": "stdout",
     "output_type": "stream",
     "text": [
      "\n",
      "~~~~~~~~~~~~~~~~ CLUSTERING RESULTS ~~~~~~~~~~~~~~~~\n",
      "Silhouette Score: 0.4923967156182758\n"
     ]
    }
   ],
   "source": [
    "# Compute the silhouette score of the clusters and print it\n",
    "# TODO - TASK A\n",
    "from sklearn.metrics import silhouette_score\n",
    "clustering_score = silhouette_score(clustering_X, clustering_y_pred)\n",
    "print_clustering_results(clustering_score)"
   ]
  },
  {
   "cell_type": "markdown",
   "metadata": {
    "id": "RMTbmHxZqHsL"
   },
   "source": [
    "### Task B\n",
    "\n",
    "Fetch the **centres of the clusters** (the model should already have them ready for you) and **plot** them together with a **colourful 2D representation** of the data groups. Your plot should look similar to the one below:\n",
    "\n",
    "![cluster-centers](https://ocw.cs.pub.ro/courses/_media/ep/labs/22._clustering_plot.png?w=600&tok=262dc7)\n",
    "\n",
    "You can also play around with the **standard deviation** of the generated blobs and observe the different outcomes of the clustering algorithm:\n",
    "\n",
    "```\n",
    "CLUSTERS_STD = 2\n",
    "```\n",
    "\n",
    "You should be able to discuss these observations with the assistant.\n",
    "\n",
    "---\n",
    "> **HINT:** The **plotting code** is very similar to the one found in the skeleton. You can also [Google](https://www.google.com/search?q=plot+k+means+cluster+python) it out. \n",
    "---\n",
    "\n",
    "Look at the hint above and solve the tasks marked with **TODO - TASK B**. Make **at least 3** changes to the standard deviation. That means that **3 plots should be generated**."
   ]
  },
  {
   "cell_type": "code",
   "execution_count": 37,
   "metadata": {
    "id": "BCriDUzpqQqS"
   },
   "outputs": [
    {
     "data": {
      "image/png": "[encoded data removed]",
      "text/plain": [
       "<Figure size 576x432 with 1 Axes>"
      ]
     },
     "metadata": {
      "needs_background": "light"
     },
     "output_type": "display_data"
    },
    {
     "data": {
      "image/png": "[encoded data removed]",
      "text/plain": [
       "<Figure size 576x432 with 1 Axes>"
      ]
     },
     "metadata": {
      "needs_background": "light"
     },
     "output_type": "display_data"
    },
    {
     "data": {
      "image/png": "[encoded data removed]",
      "text/plain": [
       "<Figure size 576x432 with 1 Axes>"
      ]
     },
     "metadata": {
      "needs_background": "light"
     },
     "output_type": "display_data"
    }
   ],
   "source": [
    "# Fetch the centers of the clusters\n",
    "# TODO - TASK B\n",
    "centers = clustering_model.cluster_centers_\n",
    "\n",
    "# Pretty print the resulting clusters together with their centers\n",
    "plt.figure(figsize=(8, 6))\n",
    "plt.scatter(clustering_X[:, 0], clustering_X[:, 1], c=clustering_y_pred, s=50, cmap='viridis')\n",
    "plt.scatter(centers[:, 0], centers[:, 1], c='red', s=200, alpha=0.6);\n",
    "plt.title(\"Clusters and their centers\")\n",
    "plt.show()\n",
    "\n",
    "CLUSTERS_STD = 5 # Change this value and see the effect on clusters\n",
    "clustering_X, _ = make_blobs(n_samples=SAMPLES, centers=CLUSTERS, cluster_std=CLUSTERS_STD, random_state=13)\n",
    "clustering_model.fit(clustering_X)\n",
    "clustering_y_pred = clustering_model.predict(clustering_X)\n",
    "centers = clustering_model.cluster_centers_\n",
    "plt.figure(figsize=(8, 6))\n",
    "plt.scatter(clustering_X[:, 0], clustering_X[:, 1], c=clustering_y_pred, s=50, cmap='viridis')\n",
    "plt.scatter(centers[:, 0], centers[:, 1], c='red', s=200, alpha=0.6);\n",
    "plt.title(\"Clusters and their centers\")\n",
    "plt.show()\n",
    "\n",
    "CLUSTERS_STD = 10 # Change this value and see the effect on clusters\n",
    "clustering_X, _ = make_blobs(n_samples=SAMPLES, centers=CLUSTERS, cluster_std=CLUSTERS_STD, random_state=13)\n",
    "clustering_model.fit(clustering_X)\n",
    "clustering_y_pred = clustering_model.predict(clustering_X)\n",
    "centers = clustering_model.cluster_centers_\n",
    "plt.figure(figsize=(8, 6))\n",
    "plt.scatter(clustering_X[:, 0], clustering_X[:, 1], c=clustering_y_pred, s=50, cmap='viridis')\n",
    "plt.scatter(centers[:, 0], centers[:, 1], c='red', s=200, alpha=0.6);\n",
    "plt.title(\"Clusters and their centers\")\n",
    "plt.show()\n",
    "\n",
    "# Pretty print the resulting clusters together with their centers\n",
    "# TODO - TASK B"
   ]
  },
  {
   "cell_type": "markdown",
   "metadata": {
    "id": "qsMiJ-Pdgjpj"
   },
   "source": [
    "The standard deviation in the context of generating blobs for clustering represents the spread of the points around the center of each cluster. When we change the standard deviation, we're essentially altering how tightly or loosely grouped the points in each cluster are.</br>\n",
    "\n",
    "-**Lower standard deviation**: The points will be more tightly grouped around the cluster centers. This usually leads to clearer and more distinct clusters, which are easier for clustering algorithms like K-Means to identify and classify correctly.\n",
    "\n",
    "-**Higher standard deviation**: The points will be more spread out, and clusters may overlap. This can make it more challenging for clustering algorithms to distinguish between clusters, potentially leading to misclassified points and less accurate clustering.\n",
    "\n",
    "-**Cluster Spread**: With a standard deviation of 2, the clusters to be reasonably well-separated with little overlap between them. The centers should be clearly distinct.\n",
    "\n",
    "-**Overlap Between Clusters**: As the standard deviation increases (to 5 and then to 10), the points in each cluster will start to spread out more. This can cause the clusters to overlap, making it harder for the K-Means algorithm to accurately identify and separate the clusters. Because K-Means is very sensitive to the noises.\n",
    "\n",
    "-**Cluster Centers**: Despite the spread of points, the cluster centers (marked by red dots) should remain relatively stable in location, as they represent the mean position of the points assigned to each cluster. But it is obvious that the centers become closer as the standard deviation increased."
   ]
  },
  {
   "cell_type": "markdown",
   "metadata": {},
   "source": [
    "## Open-ended Question"
   ]
  },
  {
   "cell_type": "markdown",
   "metadata": {},
   "source": [
    "PySpark and Pandas are two prominent tools for data manipulation and analysis in the field of data science and analytics. PySpark is widely adopted in industry settings for handling large-scale datasets. On the other hand, Pandas is a popular library among data scientists for modeling machine learning algorithms.\n",
    "\n",
    "For your assignment, we'd like you to explore and compare the performance of PySpark and Pandas data analysis tasks. Consider factors (but not limited to) such as data size, processing speed, memory usage, and ease of use. Based on your research and experimentation, please answer the following question:\n",
    "\n",
    "How does the performance of PySpark and Pandas differ when applied to real-world data analysis scenarios, and what are the key considerations that should guide the choice of one tool over the other in different contexts?\n",
    "\n",
    "You can experiement with different analytic tasks, machine learning algorithms, use cases to analyse the advantages and limitations of each tool, and provide recommendations for when to choose PySpark or Pandas based on the requirements of the analysis task and the available computing resources.\n",
    "\n",
    "You can find PySpark tutorials here:\n",
    " - [Installing PySpark](https://spark.apache.org/docs/latest/api/python/getting_started/install.html)\n",
    " - [Connecting to a PySpark session](https://notebooks.gesis.org/binder/jupyter/user/apache-spark-fnuvw4dq/notebooks/python/docs/source/getting_started/quickstart_connect.ipynb)\n",
    " - [PySpark DataFrame](https://notebooks.gesis.org/binder/jupyter/user/apache-spark-bqy9gwom/notebooks/python/docs/source/getting_started/quickstart_df.ipynb)\n",
    "- [PySpark API](https://spark.apache.org/docs/latest/api/python/reference/pyspark.sql/index.html)\n",
    "\n",
    "You can find datasets in these websites\n",
    "- https://archive.ics.uci.edu/datasets\n",
    "- https://www.kaggle.com/datasets\n",
    "- https://datasetsearch.research.google.com/\n"
   ]
  },
  {
   "cell_type": "markdown",
   "metadata": {},
   "source": [
    "### Experiment\n",
    "\n",
    "#### Profiling\n",
    "\n",
    "- CPU FlameGraph:\n",
    "\n",
    "    sudo perf record -e cpu-clock -F 99 -g -p `process_pid`\n",
    "    sudo perf script | stackcollapse-perf.pl | flamegraph.pl > flamegraph.svg\n",
    "\n",
    "\n",
    "#### Linux Observability Tools (command-line)\n",
    "\n",
    "##### Pre-processed\n",
    "\n",
    "- Overview:\n",
    "\t\n",
    "    htop -d 50 -p `process_pid`\n",
    "\t\n",
    "- System call:\n",
    "\n",
    "\tsudo strace -o output.txt -c -p `process_pid`\n",
    "\n",
    "##### System-wided\n",
    "\n",
    "- CPU usage:\n",
    "\n",
    "    mpstat -P ALL 30\n",
    "\n",
    "- Memory usage:\n",
    "    \n",
    "    free -m\n",
    "\n",
    "    vmstat -Sm 10\n",
    "\n",
    "- Disk I/O:\n",
    "    \n",
    "    iostat 10"
   ]
  },
  {
   "cell_type": "markdown",
   "metadata": {},
   "source": [
    "### Task 1\n",
    "\n",
    "Write a Spark program to find the top 15 products based on the number of reviews each day and report their average ratings, review time and product brand name.\n",
    "\n",
    "### Dataset\n",
    "[Amazon product dataset](https://cseweb.ucsd.edu/~jmcauley/datasets/amazon_v2/)\n",
    "\n",
    "#### Large Dataset\n",
    "\n",
    "Use the Patio Lawn and Garden review file (Patio_Lawn_and_Garden.json, 2.44GB) and metadata (meta_Patio_Lawn_and_Garden.json, 4.43GB).\n",
    "Download both files from the “Per-category files” section.\n",
    "\n",
    "#### Small Dataset\n",
    "\n",
    "Use the Musical Instruments review file (Musical_Instruments.json, 795.6MB) and metadata (meta_Musical_Instruments.json, 1.7GB).\n",
    "Download both files from the “Per-category files” section.\n",
    "\n",
    "\n",
    "### Code\n",
    "\n",
    "#### Pandas\n",
    "\n",
    "```python\n",
    "import pandas as pd\n",
    "import datetime\n",
    "\n",
    "start = datetime.datetime.now()\n",
    "\n",
    "def log_time(task_name):\n",
    "    print(f\"{task_name} completed at {datetime.datetime.now() - start}\")\n",
    "\n",
    "\n",
    "# Step 1: read data\n",
    "# log_time(\"Start\")\n",
    "input_file_path = '../Datasets/Patio_Lawn_and_Garden.json'\n",
    "metadata_file_path = '../Datasets/meta_Patio_Lawn_and_Garden.json'\n",
    "\n",
    "reviews_df = pd.read_json(input_file_path, lines=True)\n",
    "log_time(\"Reviews data loaded\")\n",
    "\n",
    "metadata_df = pd.read_json(metadata_file_path, lines=True)\n",
    "log_time(\"Metadata data loaded\")\n",
    "\n",
    "# Step 2: group and aggregate data\n",
    "reviews_grouped = reviews_df.groupby(['asin', 'reviewTime']).agg(\n",
    "    num_reviews=pd.NamedAgg(column='overall', aggfunc='count'),\n",
    "    avg_rating=pd.NamedAgg(column='overall', aggfunc='mean')\n",
    ").reset_index()\n",
    "\n",
    "log_time(\"Reviews data grouped and aggregated\")\n",
    "\n",
    "metadata_df = metadata_df[['asin', 'brand']]\n",
    "\n",
    "joined_df = pd.merge(reviews_grouped, metadata_df, on='asin')\n",
    "joined_df = joined_df.drop_duplicates(subset=['asin', 'reviewTime'])\n",
    "log_time(\"DataFrames joined\")\n",
    "\n",
    "# Step 3: sort and select top 15 products\n",
    "top_15_products = joined_df.sort_values(by='num_reviews', ascending=False).head(15)\n",
    "log_time(\"Top 15 products determined\")\n",
    "\n",
    "# Step 4: output results\n",
    "output_file_path = 'output_pandas.txt'\n",
    "with open(output_file_path, \"w\") as output_file:\n",
    "    # set field widths\n",
    "    field_widths = [15, 20, 15, 20, 20]\n",
    "    headers = [\"<product ID>\", \"<num of reviews>\", \"<review time>\", \"<avg ratings>\", \"<product brand name>\"]\n",
    "    headers = \"\\t\".join(header.rjust(width) for header, width in zip(headers, field_widths))\n",
    "    output_file.write(headers + \"\\n\")\n",
    "\n",
    "    for index, row in top_15_products.iterrows():\n",
    "        _data = [row['asin'], row['num_reviews'], row['reviewTime'], round(row['avg_rating'], 4), row['brand']]\n",
    "        output_line = \"\\t\".join(str(field).rjust(width)\n",
    "                                if isinstance(field, (int, float)) else field.rjust(width)\n",
    "                                for field, width in zip(_data, field_widths))\n",
    "        output_file.write(output_line + \"\\n\")\n",
    "\n",
    "log_time(\"Process completed\")\n",
    "```\n",
    "\n",
    "#### Pyspark\n",
    "\n",
    "```python\n",
    "from pyspark.sql import SparkSession\n",
    "from pyspark.sql import functions as F\n",
    "import datetime\n",
    "\n",
    "start = datetime.datetime.now()\n",
    "\n",
    "def log_time(task_name):\n",
    "    print(f\"{task_name} completed at {datetime.datetime.now() - start}\")\n",
    "\n",
    "spark = SparkSession.builder \\\n",
    "    .appName(\"Product Review Analysis\") \\\n",
    "    .config('spark.driver.host', '127.0.0.1') \\\n",
    "    .master(\"local\") \\\n",
    "    .getOrCreate()\n",
    "\n",
    "sc = spark.sparkContext\n",
    "\n",
    "# Step 1: Read input arguments\n",
    "input_file_path = '../Datasets/Patio_Lawn_and_Garden.json'          # Patio_Lawn_and_Garden.json\n",
    "metadata_file_path = '../Datasets/meta_Patio_Lawn_and_Garden.json'       # meta_Patio_Lawn_and_Garden.json\n",
    "\n",
    "reviews_df = spark.read.json(sc.textFile(input_file_path), allowBackslashEscapingAnyCharacter=True)\n",
    "log_time(\"Reviews data loaded\")\n",
    "metadata_df = spark.read.json(sc.textFile(metadata_file_path), allowBackslashEscapingAnyCharacter=True)\n",
    "log_time(\"Metadata data loaded\")\n",
    "reviews_grouped = reviews_df.groupBy(\"asin\", \"reviewTime\") \\\n",
    "    .agg(F.count(\"overall\").alias(\"num_reviews\"),\n",
    "         F.avg(\"overall\").alias(\"avg_rating\"))\n",
    "\n",
    "log_time(\"Reviews data grouped and aggregated\")\n",
    "\n",
    "# select only the columns we need\n",
    "metadata_df = metadata_df.select(\"asin\", \"brand\")\n",
    "\n",
    "# join the two dataframes\n",
    "joined_df = reviews_grouped.join(metadata_df, \"asin\")\n",
    "joined_df = joined_df.dropDuplicates([\"asin\", \"reviewTime\"])\n",
    "\n",
    "log_time(\"DataFrames joined\")\n",
    "# select top 15 products by number of reviews\n",
    "top_15_products = joined_df.orderBy(F.desc(\"num_reviews\")).limit(15).collect()\n",
    "log_time(\"Top 15 products determined\")\n",
    "\n",
    "# Output the results\n",
    "output_file_path = 'output_pyspark.txt'\n",
    "with open(output_file_path, \"w\") as output_file:\n",
    "    # set the field widths\n",
    "    field_widths = [15, 20, 15, 20, 20]\n",
    "    headers = [\"<product ID>\", \"<num of reviews>\", \"<review time>\", \"<avg ratings>\", \"<product brand name>\"]\n",
    "    headers = \"\\t\".join(header.rjust(width) for header, width in zip(headers, field_widths))\n",
    "    output_file.write(headers + \"\\n\")\n",
    "\n",
    "    # write the data\n",
    "    for row in top_15_products:\n",
    "        _data = [row[\"asin\"], row[\"num_reviews\"], row[\"reviewTime\"], round(row[\"avg_rating\"], 4), row[\"brand\"]]\n",
    "        output_line = \"\\t\".join(str(field).rjust(width)\n",
    "                                if isinstance(field, (int, float)) else field.rjust(width)\n",
    "                                for field, width in zip(_data, field_widths))\n",
    "        output_file.write(output_line + \"\\n\")\n",
    "\n",
    "# stop the Spark session\n",
    "spark.stop()\n",
    "log_time(\"Process completed\")\n",
    "\n",
    "```"
   ]
  },
  {
   "cell_type": "markdown",
   "metadata": {},
   "source": [
    "### Task 2\n",
    "\n",
    "Movie review sentiment analysis. A big data analysis pipeline based on utilizing language modeling and text classification techniques, to process and analyze large-scale movie review datasets,\n",
    "\n",
    "### Dataset\n",
    "movie.csv (52.7MB)\n",
    "\n",
    "The dataset contains a total of 39,273 data items, with each review accompanied by a sentiment label indicating the reviewer’s sentiment polarity towards the movie.\n",
    "\n",
    "### Description\n",
    "\n",
    "Input: movie.csv. Output: Accuracy, Precision, Recall, F1-score of each model.\n",
    "\n",
    "Use TF-IDF to extract features from the movie review dataset, and then train Logistic Regression, Naive Bayes, Decision Tree, and Random Forest models to classify the movie reviews into positive and negative sentiments.\n",
    "\n",
    "\n",
    "### Code\n",
    "\n",
    "#### Pandas\n",
    "\n",
    "```python\n",
    "import os\n",
    "import math\n",
    "import nltk\n",
    "import scipy\n",
    "import string\n",
    "import numpy as np\n",
    "import pandas as pd\n",
    "\n",
    "\n",
    "from sklearn.decomposition import PCA\n",
    "from nltk.stem.porter import PorterStemmer\n",
    "from sklearn.preprocessing import StandardScaler\n",
    "from sklearn.model_selection import train_test_split\n",
    "\n",
    "from sklearn.svm import SVC\n",
    "from sklearn.naive_bayes import BernoulliNB\n",
    "from sklearn.tree import DecisionTreeClassifier\n",
    "from sklearn.neighbors import KNeighborsClassifier\n",
    "from sklearn.ensemble import RandomForestClassifier\n",
    "from sklearn.linear_model import LogisticRegression\n",
    "from sklearn.model_selection import RandomizedSearchCV\n",
    "from sklearn.ensemble import GradientBoostingClassifier\n",
    "from sklearn.model_selection import RepeatedStratifiedKFold\n",
    "from sklearn.metrics import accuracy_score, confusion_matrix, classification_report, f1_score, \\\n",
    "roc_auc_score, roc_curve, precision_score, recall_score\n",
    "\n",
    "import warnings \n",
    "warnings.filterwarnings('ignore')\n",
    "\n",
    "import datetime\n",
    "start_time = datetime.datetime.now()\n",
    "\n",
    "task_names = ['Load', 'Preprocess', 'LR Train', 'LR Evaluate', 'NB Train', 'NB Evaluate', 'DT Train', 'DT Evaluate', 'RF Train', 'RF Evaluate']\n",
    "task_times = []\n",
    "\n",
    "df = pd.read_csv('../Datasets/movie.csv', header=0)\n",
    "target = 'label'\n",
    "df.reset_index(drop=True, inplace=True)\n",
    "original_df = df.copy(deep=True)\n",
    "\n",
    "print('\\n\\033[1mInference:\\033[0m The Datset consists of {} features & {} samples.'.format(df.shape[1], df.shape[0]))\n",
    "\n",
    "task_times.append(datetime.datetime.now() - start_time)\n",
    "start_time = datetime.datetime.now()\n",
    "\n",
    "print(df.isnull().sum())\n",
    "print('\\n\\033[1mInference:\\033[0m The dataset doesn\\'t have any null elements')\n",
    "\n",
    "counter = 0\n",
    "r,c = original_df.shape\n",
    "\n",
    "df1 = df.drop_duplicates()\n",
    "df1.reset_index(drop=True, inplace=True)\n",
    "\n",
    "import nltk\n",
    "import string\n",
    "from tqdm import tqdm\n",
    "from multiprocessing import Pool\n",
    "from nltk.corpus import stopwords\n",
    "from nltk.stem.porter import PorterStemmer\n",
    "\n",
    "df = df1.copy()\n",
    "\n",
    "def preprocessor(text):\n",
    "    text = text.lower()\n",
    "    text = ''.join([i for i in text if i in string.ascii_lowercase+' '])\n",
    "    text = ' '.join([PorterStemmer().stem(word) for word in text.split()])\n",
    "    text = ' '.join([word for word in text.split() if word not in stopwords.words('english')])\n",
    "    return text\n",
    "\n",
    "    df.loc[i,'text'] = preprocessor(df['text'][i])\n",
    "\n",
    "from sklearn.feature_extraction.text import TfidfVectorizer\n",
    "\n",
    "from nltk.stem.porter import PorterStemmer\n",
    "porter=PorterStemmer()\n",
    "def tokenizer(text):\n",
    "        return text.split()\n",
    "def tokenizer_porter(text):\n",
    "    return [porter.stem(word) for word in text.split()]\n",
    "\n",
    "tfidf=TfidfVectorizer(strip_accents=None,lowercase=False,preprocessor=None,tokenizer=tokenizer_porter,use_idf=True,norm='l2',smooth_idf=True)\n",
    "y=df.label.values\n",
    "x=tfidf.fit_transform(df.text)\n",
    "\n",
    "X = df.drop([target],axis=1)\n",
    "Y = df[target]\n",
    "Train_X, Test_X, Train_Y, Test_Y = train_test_split(x, y, train_size=0.8, test_size=0.2, random_state=0)\n",
    "\n",
    "print('Original set  ---> ',X.shape,Y.shape,'\\nTraining set  ---> ',Train_X.shape,Train_Y.shape,'\\nTesting set   ---> ', Test_X.shape,'', Test_Y.shape)\n",
    "\n",
    "\n",
    "Evaluation_Results = pd.DataFrame(np.zeros((4,5)), columns=['Accuracy', 'Precision','Recall','F1-score','AUC-ROC score'])\n",
    "Evaluation_Results.index=['Logistic Regression (LR)','Decision Tree Classifier (DT)','Random Forest Classifier (RF)','Naïve Bayes Classifier (NB)']\n",
    "\n",
    "#Classification Summary Function\n",
    "def Classification_Summary(pred,pred_prob,i):\n",
    "    Evaluation_Results.iloc[i]['Accuracy']=round(accuracy_score(Test_Y, pred),3)*100   \n",
    "    Evaluation_Results.iloc[i]['Precision']=round(precision_score(Test_Y, pred),3)*100 #, average='weighted'\n",
    "    Evaluation_Results.iloc[i]['Recall']=round(recall_score(Test_Y, pred),3)*100 #, average='weighted'\n",
    "    Evaluation_Results.iloc[i]['F1-score']=round(f1_score(Test_Y, pred),3)*100 #, average='weighted'\n",
    "    Evaluation_Results.iloc[i]['AUC-ROC score']=round(roc_auc_score(Test_Y, pred),3)*100 #, multi_class='ovr'\n",
    "    print('{}{}\\033[1m Evaluating {} \\033[0m{}{}\\n'.format('<'*3,'-'*35,Evaluation_Results.index[i], '-'*35,'>'*3))\n",
    "    print('Accuracy = {}%'.format(round(accuracy_score(Test_Y, pred),3)*100))\n",
    "    print('F1 Score = {}%'.format(round(f1_score(Test_Y, pred),3)*100)) #, average='weighted'\n",
    "    print('\\n \\033[1mConfusiton Matrix:\\033[0m\\n',confusion_matrix(Test_Y, pred))\n",
    "    print('\\n\\033[1mClassification Report:\\033[0m\\n',classification_report(Test_Y, pred))\n",
    "    \n",
    "\n",
    "#Visualising Function\n",
    "def AUC_ROC_plot(Test_Y, pred):    \n",
    "    ref = [0 for _ in range(len(Test_Y))]\n",
    "    ref_auc = roc_auc_score(Test_Y, ref)\n",
    "    lr_auc = roc_auc_score(Test_Y, pred)\n",
    "\n",
    "    ns_fpr, ns_tpr, _ = roc_curve(Test_Y, ref)\n",
    "    lr_fpr, lr_tpr, _ = roc_curve(Test_Y, pred)\n",
    "\n",
    "\n",
    "task_times.append(datetime.datetime.now() - start_time)\n",
    "start_time = datetime.datetime.now()\n",
    "\n",
    "LR_model = LogisticRegression()\n",
    "LR = LR_model.fit(Train_X, Train_Y)\n",
    "\n",
    "task_times.append(datetime.datetime.now() - start_time)\n",
    "start_time = datetime.datetime.now()\n",
    "\n",
    "pred = LR.predict(Test_X)\n",
    "pred_prob = LR.predict_proba(Test_X)\n",
    "Classification_Summary(pred,pred_prob,0)\n",
    "\n",
    "task_times.append(datetime.datetime.now() - start_time)\n",
    "start_time = datetime.datetime.now()\n",
    "\n",
    "NB_model = BernoulliNB()\n",
    "NB = NB_model.fit(Train_X, Train_Y)\n",
    "\n",
    "task_times.append(datetime.datetime.now() - start_time)\n",
    "start_time = datetime.datetime.now()\n",
    "\n",
    "pred = NB.predict(Test_X)\n",
    "pred_prob = NB.predict_proba(Test_X)\n",
    "Classification_Summary(pred,pred_prob,3)\n",
    "\n",
    "task_times.append(datetime.datetime.now() - start_time)\n",
    "start_time = datetime.datetime.now()\n",
    "\n",
    "DT_model = DecisionTreeClassifier()\n",
    "DT = DT_model.fit(Train_X, Train_Y)\n",
    "\n",
    "task_times.append(datetime.datetime.now() - start_time)\n",
    "start_time = datetime.datetime.now()\n",
    "\n",
    "pred = DT.predict(Test_X)\n",
    "pred_prob = DT.predict_proba(Test_X)\n",
    "Classification_Summary(pred,pred_prob,1)\n",
    "\n",
    "task_times.append(datetime.datetime.now() - start_time)\n",
    "start_time = datetime.datetime.now()\n",
    "\n",
    "RF_model = RandomForestClassifier()\n",
    "RF = RF_model.fit(Train_X, Train_Y)\n",
    "\n",
    "task_times.append(datetime.datetime.now() - start_time)\n",
    "start_time = datetime.datetime.now()\n",
    "\n",
    "pred = RF.predict(Test_X)\n",
    "pred_prob = RF.predict_proba(Test_X)\n",
    "Classification_Summary(pred,pred_prob,2)\n",
    "\n",
    "task_times.append(datetime.datetime.now() - start_time)\n",
    "start_time = datetime.datetime.now()\n",
    "\n",
    "with open('time.txt', 'w') as f:\n",
    "    for i in range(len(task_names)):\n",
    "        f.write(f'{task_names[i]}: {task_times[i]}\\n')\n",
    "\n",
    "```\n",
    "\n",
    "#### Pyspark\n",
    "\n",
    "```python\n",
    "import os\n",
    "memory = '20g'\n",
    "pyspark_submit_args = '--executor-memory 4g' + ' --driver-memory ' + memory + ' pyspark-shell'\n",
    "os.environ[\"PYSPARK_SUBMIT_ARGS\"] = pyspark_submit_args\n",
    "\n",
    "from pyspark import SparkConf\n",
    "from pyspark.sql import SparkSession\n",
    "from pyspark.sql.functions import *\n",
    "from pyspark.ml.feature import Tokenizer, StopWordsRemover, HashingTF, IDF\n",
    "from pyspark.ml.classification import LogisticRegression, DecisionTreeClassifier, RandomForestClassifier, NaiveBayes, GBTClassifier\n",
    "from pyspark.ml.evaluation import BinaryClassificationEvaluator\n",
    "from pyspark.ml import Pipeline\n",
    "from pyspark.ml.tuning import CrossValidator, ParamGridBuilder\n",
    "import pandas as pd\n",
    "\n",
    "# Initial SparkSession\n",
    "conf = SparkConf() \\\n",
    "    .set('spark.driver.host', '127.0.0.1') \\\n",
    "    .set(\"spark.jars.packages\", \"com.johnsnowlabs.nlp:spark-nlp_2.12:5.1.4\") \\\n",
    "    .set(\"spark.sql.autoBroadcastJoinThreshold\", \"-1\") \\\n",
    "    .setMaster(\"local\").setAppName('MovieReview Sentiment Analysis')\n",
    "spark = SparkSession.builder.config(conf=conf).getOrCreate()\n",
    "spark.sparkContext.setLogLevel(\"ERROR\")\n",
    "\n",
    "# Ignore warnings\n",
    "import warnings\n",
    "warnings.filterwarnings('ignore', category=UserWarning)\n",
    "\n",
    "import datetime\n",
    "start_time = datetime.datetime.now()\n",
    "\n",
    "task_names = ['Load', 'Preprocess', 'LR Train', 'LR Evaluate', 'NB Train', 'NB Evaluate', 'DT Train', 'DT Evaluate', 'RF Train', 'RF Evaluate']\n",
    "task_times = []\n",
    "\n",
    "# Importing the dataset\n",
    "df = pd.read_csv('../Datasets/movie.csv', header=0)\n",
    "\n",
    "# Converting the dataset to spark dataframe\n",
    "df = spark.createDataFrame(df)\n",
    "\n",
    "task_times.append(datetime.datetime.now() - start_time)\n",
    "start_time = datetime.datetime.now()\n",
    "\n",
    "from pyspark.sql.functions import col, count\n",
    "\n",
    "# Checking for null values\n",
    "null_check = df.select([count(when(col(c).isNull(), c)).alias(c) for c in df.columns])\n",
    "\n",
    "# remove duplicates\n",
    "original_count = df.count()\n",
    "df = df.dropDuplicates()\n",
    "\n",
    "from sparknlp.base import DocumentAssembler, Finisher\n",
    "from sparknlp.annotator.token.tokenizer import Tokenizer\n",
    "from sparknlp.annotator.normalizer import Normalizer\n",
    "from sparknlp.annotator.lemmatizer import LemmatizerModel\n",
    "from sparknlp.annotator.stemmer import Stemmer\n",
    "from sparknlp.annotator.stop_words_cleaner import StopWordsCleaner\n",
    "from sparknlp.annotator.n_gram_generator import NGramGenerator\n",
    "\n",
    "# Create all the required annotators\n",
    "documentAssembler = DocumentAssembler() \\\n",
    "        .setInputCol('text') \\\n",
    "        .setOutputCol('document')\n",
    "\n",
    "# Tokenize the document \n",
    "tokenizer = Tokenizer() \\\n",
    "        .setInputCols(['document']) \\\n",
    "        .setOutputCol('tokenized')\n",
    "\n",
    "# Normalize the tokens\n",
    "normalizer = Normalizer() \\\n",
    "        .setInputCols(['tokenized']) \\\n",
    "        .setOutputCol('normalized') \\\n",
    "        .setLowercase(True)\n",
    "\n",
    "# Stem the normalized tokens\n",
    "stemmer = Stemmer() \\\n",
    "        .setInputCols(['normalized']) \\\n",
    "        .setOutputCol('stemmed')\n",
    "\n",
    "# Remove stopwords from the lemmatized tokens\n",
    "import nltk\n",
    "nltk.download('stopwords')\n",
    "from nltk.corpus import stopwords\n",
    "eng_stopwords = stopwords.words('english')\n",
    "stopwords_cleaner = StopWordsCleaner() \\\n",
    "        .setInputCols(['stemmed']) \\\n",
    "        .setOutputCol('unigrams') \\\n",
    "        .setStopWords(eng_stopwords)\n",
    "\n",
    "finisher = Finisher() \\\n",
    "     .setInputCols(['unigrams'])\n",
    "\n",
    "\n",
    "from pyspark.ml import Pipeline\n",
    "# Create a pipeline\n",
    "pipeline = Pipeline() \\\n",
    "     .setStages([documentAssembler,                  \n",
    "                 tokenizer,\n",
    "                 normalizer,        \n",
    "                 stemmer,                  \n",
    "                 stopwords_cleaner, \n",
    "                 finisher])\n",
    "\n",
    "# Transform DataFrame\n",
    "df = pipeline.fit(df).transform(df)\n",
    "\n",
    "from pyspark.ml.feature import CountVectorizer\n",
    "from pyspark.ml.feature import IDF\n",
    "\n",
    "# create a TF vectorizer\n",
    "hashing_TF = HashingTF(inputCol='finished_unigrams', outputCol='tf_features')\n",
    "tf_df = hashing_TF.transform(df)\n",
    "\n",
    "# create an IDF estimator\n",
    "idfizer = IDF(inputCol='tf_features', outputCol='tf_idf_features')\n",
    "idf_model = idfizer.fit(tf_df)\n",
    "tfidf_df = idf_model.transform(tf_df)\n",
    "\n",
    "feature_df = tfidf_df.select(['label', 'tf_idf_features'])\n",
    "# Ensure that the labels are of float type\n",
    "feature_df = feature_df.withColumn(\"label\", feature_df[\"label\"].cast(\"float\"))\n",
    "# feature_df.show(5)\n",
    "\n",
    "# Split the data\n",
    "(train_data, test_data) = feature_df.randomSplit([0.8, 0.2], seed=0)\n",
    "\n",
    "# Create a dictionary to store the evaluation results of each model\n",
    "Evaluation_Results = {\n",
    "    'Logistic Regression (LR)': [0] * 5,\n",
    "    'Decision Tree Classifier (DT)': [0] * 5,\n",
    "    'Random Forest Classifier (RF)': [0] * 5,\n",
    "    'Naïve Bayes Classifier (NB)': [0] * 5\n",
    "}\n",
    "\n",
    "# Convert the dictionary to a pandas DataFrame\n",
    "Evaluation_Results_df = pd.DataFrame(Evaluation_Results, index=['Accuracy', 'Precision', 'Recall', 'F1-score', 'AUC-ROC score']).T\n",
    "Evaluation_Results_df\n",
    "\n",
    "from pyspark.ml.classification import LogisticRegression\n",
    "from pyspark.ml.evaluation import BinaryClassificationEvaluator, MulticlassClassificationEvaluator\n",
    "from pyspark.mllib.evaluation import BinaryClassificationMetrics, MulticlassMetrics\n",
    "from sklearn.metrics import roc_curve, auc\n",
    "\n",
    "# Classification Summary Function\n",
    "def classification_summary(predictions, model_name):\n",
    "    print('\\nConfusion Matrix:')\n",
    "    # Compute the confusion matrix\n",
    "    rdd = predictions.select(['prediction', 'label']).rdd.map(tuple)    \n",
    "    metrics = MulticlassMetrics(rdd)\n",
    "    confusion_matrix = metrics.confusionMatrix().toArray()\n",
    "\n",
    "    # Compute various metrics\n",
    "    evaluator = MulticlassClassificationEvaluator(labelCol=\"label\", predictionCol=\"prediction\")\n",
    "    accuracy = evaluator.evaluate(predictions, {evaluator.metricName: \"accuracy\"})\n",
    "    precision = confusion_matrix[1][1] / (confusion_matrix[1][1] + confusion_matrix[0][1])\n",
    "    recall = confusion_matrix[1][1] / (confusion_matrix[1][1] + confusion_matrix[1][0])\n",
    "    f1 = 2 * precision * recall / (precision + recall)\n",
    "    \n",
    "    # Compute AUC-ROC\n",
    "    # Convert predictions to Pandas DataFrame\n",
    "    predictions_pd = predictions.select(\"probability\", \"label\").toPandas()\n",
    "\n",
    "    # Extract the probability of the positive class\n",
    "    prob_positive_class = predictions_pd.apply(lambda row: row['probability'][1], axis=1)\n",
    "\n",
    "    # Compute FPR, TPR, and AUC-ROC\n",
    "    fpr, tpr, _ = roc_curve(predictions_pd['label'], prob_positive_class)\n",
    "    auc_roc = auc(fpr, tpr)\n",
    "\n",
    "    # Update the results dataframe\n",
    "    Evaluation_Results_df.loc[model_name] = [accuracy*100, precision*100, recall*100, f1*100, auc_roc*100]\n",
    "    \n",
    "    # Print the results\n",
    "    print('{}{}\\033[1m Evaluating {} \\033[0m{}{}\\n'.format('<'*3,'-'*35, model_name, '-'*35,'>'*3))\n",
    "    print('Accuracy = {:.2f}%'.format(accuracy * 100))\n",
    "    print('Precision = {:.2f}%'.format(precision * 100))\n",
    "    print('Recall = {:.2f}%'.format(recall * 100))\n",
    "    print('F1 Score = {:.2f}%'.format(f1 * 100))\n",
    "    print('AUC-ROC = {:.2f}%'.format(auc_roc * 100))\n",
    "\n",
    "task_times.append(datetime.datetime.now() - start_time)\n",
    "start_time = datetime.datetime.now()\n",
    "\n",
    "# Logistic Regression Classifier\n",
    "lr = LogisticRegression(featuresCol=\"tf_idf_features\", labelCol=\"label\")\n",
    "lr_model = lr.fit(train_data)\n",
    "lr_predictions = lr_model.transform(test_data)\n",
    "\n",
    "task_times.append(datetime.datetime.now() - start_time)\n",
    "start_time = datetime.datetime.now()\n",
    "\n",
    "# Show the results\n",
    "classification_summary(lr_predictions, 'Logistic Regression (LR)')\n",
    "\n",
    "task_times.append(datetime.datetime.now() - start_time)\n",
    "start_time = datetime.datetime.now()\n",
    "\n",
    "# Naive Bayes Classifier\n",
    "nb = NaiveBayes(featuresCol=\"tf_idf_features\", labelCol=\"label\")\n",
    "nb_model = nb.fit(train_data)\n",
    "nb_predictions = nb_model.transform(test_data)\n",
    "\n",
    "task_times.append(datetime.datetime.now() - start_time)\n",
    "start_time = datetime.datetime.now()\n",
    "\n",
    "# Show the results\n",
    "classification_summary(nb_predictions, 'Naïve Bayes Classifier (NB)')\n",
    "\n",
    "task_times.append(datetime.datetime.now() - start_time)\n",
    "start_time = datetime.datetime.now()\n",
    "\n",
    "# Decision Tree Classifier\n",
    "dt = DecisionTreeClassifier(featuresCol=\"tf_idf_features\", labelCol=\"label\")\n",
    "dt_model = dt.fit(train_data)\n",
    "dt_predictions = dt_model.transform(test_data)\n",
    "\n",
    "task_times.append(datetime.datetime.now() - start_time)\n",
    "start_time = datetime.datetime.now()\n",
    "\n",
    "# Show the results\n",
    "classification_summary(dt_predictions, 'Decision Tree Classifier (DT)')\n",
    "\n",
    "task_times.append(datetime.datetime.now() - start_time)\n",
    "start_time = datetime.datetime.now()\n",
    "\n",
    "# Random Forest\n",
    "rf = RandomForestClassifier(featuresCol=\"tf_idf_features\", labelCol=\"label\")\n",
    "rf_model = rf.fit(train_data)\n",
    "rf_predictions = rf_model.transform(test_data)\n",
    "\n",
    "task_times.append(datetime.datetime.now() - start_time)\n",
    "start_time = datetime.datetime.now()\n",
    "\n",
    "# # Show the results\n",
    "classification_summary(rf_predictions, 'Random Forest Classifier (RF)')\n",
    "\n",
    "task_times.append(datetime.datetime.now() - start_time)\n",
    "start_time = datetime.datetime.now()\n",
    "\n",
    "with open('time.txt', 'w') as f:\n",
    "    for i in range(len(task_names)):\n",
    "        f.write(f'{task_names[i]}: {task_times[i]}\\n')\n",
    "\n",
    "```"
   ]
  },
  {
   "cell_type": "code",
   "execution_count": null,
   "metadata": {},
   "outputs": [],
   "source": []
  }
 ],
 "metadata": {
  "colab": {
   "collapsed_sections": [],
   "provenance": [
    {
     "file_id": "https://github.com/vladastefanescu/machine-learning-introduction/blob/main/Machine_Learning_Introduction.ipynb",
     "timestamp": 1664368900577
    }
   ],
   "toc_visible": true
  },
  "kernelspec": {
   "display_name": "Python 3",
   "language": "python",
   "name": "python3"
  },
  "language_info": {
   "codemirror_mode": {
    "name": "ipython",
    "version": 3
   },
   "file_extension": ".py",
   "mimetype": "text/x-python",
   "name": "python",
   "nbconvert_exporter": "python",
   "pygments_lexer": "ipython3",
   "version": "3.8.8"
  },
  "vscode": {
   "interpreter": {
    "hash": "4bf0e5b8212b94c175e4af32dc6a5084facfd49fd74ab6b8da127acddd21565e"
   }
  }
 },
 "nbformat": 4,
 "nbformat_minor": 1
}
